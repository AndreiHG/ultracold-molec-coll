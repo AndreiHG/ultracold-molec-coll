{
 "cells": [
  {
   "cell_type": "code",
   "execution_count": 93,
   "metadata": {
    "collapsed": true
   },
   "outputs": [],
   "source": [
    "import numpy as np\n",
    "import molecCollPackage as molec\n",
    "import scipy as sp\n",
    "import matplotlib.pyplot as plt\n",
    "from matplotlib.backends.backend_pdf import PdfPages\n",
    "import random\n",
    "import math"
   ]
  },
  {
   "cell_type": "markdown",
   "metadata": {},
   "source": [
    "To do: just compute both lifeties for Cs and Li (and possibly other atom species) in one for loop."
   ]
  },
  {
   "cell_type": "markdown",
   "metadata": {},
   "source": [
    "# For Lithium"
   ]
  },
  {
   "cell_type": "code",
   "execution_count": 2,
   "metadata": {
    "collapsed": false
   },
   "outputs": [],
   "source": [
    "# Use run_tests to only run simulations when making an update on the data (to avoid having to wait every time)\n",
    "run_tests = 0\n",
    "Tlist_Li = [25, 50, 100, 150, 250, 300, 400, 500, 600, 650, 750, 900, 1000]\n",
    "if run_tests:\n",
    "    tlist_Li = []\n",
    "    for T in Tlist_Li:\n",
    "        tlist_Li = np.append(tlist_Li, molec.run_collision(T, atom=\"Li\", rinit1=50)[0]) \n",
    "else:\n",
    "    # Precomputed values (useful when we just want to plot, for ex)\n",
    "    tlist_Li = np.array([  1.16033674e-04,   1.00020688e-04,   7.09699392e-05,\n",
    "         5.72307008e-05,   4.44590144e-05,   4.09758272e-05,\n",
    "         3.47834944e-05,   3.14454400e-05,   2.50112192e-05,\n",
    "         2.30277376e-05,   2.03427808e-05,   1.77787680e-05,\n",
    "         1.65693280e-05])"
   ]
  },
  {
   "cell_type": "code",
   "execution_count": 3,
   "metadata": {
    "collapsed": false
   },
   "outputs": [
    {
     "name": "stdout",
     "output_type": "stream",
     "text": [
      "Li computed lifetimes follow a power-law dependence with exponent [-0.468187    0.00056283]\n"
     ]
    }
   ],
   "source": [
    "# Fit power law\n",
    "\n",
    "fitfunc = lambda p, x: p[1]*x**(p[0]) # Target function\n",
    "errfunc = lambda p, x, y: fitfunc(p, x) - y # Distance to the target function\n",
    "p0 = [0.1, 1] # Initial guess for the parameters\n",
    "p1_Li, success = sp.optimize.leastsq(errfunc, p0[:], args=(Tlist_Li, tlist_Li))\n",
    "\n",
    "print(\"Li computed lifetimes follow a power-law dependence with exponent %s\" %(p1_Li))"
   ]
  },
  {
   "cell_type": "markdown",
   "metadata": {},
   "source": [
    "# For Cesium\n",
    "\n",
    "Be careful to change the max number of steps for heavier atoms. Otherwise we get a ~constant lifetime for the colder temperatures."
   ]
  },
  {
   "cell_type": "code",
   "execution_count": 4,
   "metadata": {
    "collapsed": true
   },
   "outputs": [],
   "source": [
    "# Use run_tests to only run simulations when making an update on the data (to avoid having to wait every time)\n",
    "run_tests = 0\n",
    "Tlist_Cs = [25, 50, 100, 200, 250, 300, 400, 500, 600, 650, 750, 900, 1000]\n",
    "if run_tests:\n",
    "    tlist_Cs = []\n",
    "    for T in Tlist_Cs:\n",
    "        tlist_Cs = np.append(tlist_Cs, molec.run_collision(T, t=(0, 30000), atom=\"Cs\", rinit1=50)[0]) \n",
    "else:\n",
    "    # Precomputed values (useful when we just want to plot, for ex)\n",
    "    tlist_Cs = np.array([  6.14806730e-04,   4.37623770e-04,   3.07536403e-04,\n",
    "         2.11313357e-04,   1.95397126e-04,   1.77255526e-04,\n",
    "         1.55026019e-04,   1.39206544e-04,   1.25346362e-04,\n",
    "         1.21185888e-04,   1.09938096e-04,   1.03334554e-04,\n",
    "         9.73357312e-05])"
   ]
  },
  {
   "cell_type": "code",
   "execution_count": 5,
   "metadata": {
    "collapsed": false
   },
   "outputs": [
    {
     "name": "stdout",
     "output_type": "stream",
     "text": [
      "Cs computed lifetimes follow a power-law dependence with exponent [-0.50089214  0.00308719]\n"
     ]
    }
   ],
   "source": [
    "# Fit power law\n",
    "\n",
    "fitfunc = lambda p, x: p[1]*x**(p[0]) # Target function\n",
    "errfunc = lambda p, x, y: fitfunc(p, x) - y # Distance to the target function\n",
    "p0 = [0.1, 1] # Initial guess for the parameters\n",
    "p1_Cs, success = sp.optimize.leastsq(errfunc, p0[:], args=(Tlist_Cs, tlist_Cs))\n",
    "\n",
    "print(\"Cs computed lifetimes follow a power-law dependence with exponent %s\" %(p1_Cs))"
   ]
  },
  {
   "cell_type": "markdown",
   "metadata": {},
   "source": [
    "# Plots..."
   ]
  },
  {
   "cell_type": "code",
   "execution_count": 15,
   "metadata": {
    "collapsed": false
   },
   "outputs": [
    {
     "data": {
      "image/png": "[encoded data removed]",
      "text/plain": [
       "<matplotlib.figure.Figure at 0x17e6a3bd198>"
      ]
     },
     "metadata": {},
     "output_type": "display_data"
    }
   ],
   "source": [
    "# Plot lifetime and fitted power law\n",
    "fig = plt.figure()\n",
    "Tpowerlaw = np.linspace(10,1000,20)\n",
    "plt.loglog(Tlist_Li,tlist_Li,'ro', label='Li + Li2')\n",
    "plt.loglog(Tlist_Cs,tlist_Cs,'bo', label='Cs + Cs2')\n",
    "plt.loglog(Tpowerlaw, fitfunc(p1_Li, Tpowerlaw),'k')\n",
    "plt.loglog(Tpowerlaw, fitfunc(p1_Cs, Tpowerlaw),'k')\n",
    "plt.ylabel(\"Lifetime (ns)\")\n",
    "plt.xlabel(\"Collision energy (K)\")\n",
    "plt.legend()\n",
    "plt.show()\n",
    "pp = PdfPages('lifetime.pdf')\n",
    "pp.savefig(fig)\n",
    "pp.close()"
   ]
  },
  {
   "cell_type": "markdown",
   "metadata": {
    "collapsed": true
   },
   "source": [
    "# Fractional survival\n",
    "\n",
    "## Lithium first"
   ]
  },
  {
   "cell_type": "code",
   "execution_count": 114,
   "metadata": {
    "collapsed": false
   },
   "outputs": [],
   "source": [
    "T = 100\n",
    "N_time = 20 # how many time divisions\n",
    "N = 100 # how many trials per time division\n",
    "time_x = np.linspace (100, 25000, N_time)\n",
    "number_remaining_Li = np.zeros(N_time)\n",
    "rand_theta = 0"
   ]
  },
  {
   "cell_type": "code",
   "execution_count": 115,
   "metadata": {
    "collapsed": false,
    "scrolled": false
   },
   "outputs": [
    {
     "name": "stdout",
     "output_type": "stream",
     "text": [
      "Finished 1 time divisions out of 20\n",
      "Finished 3 time divisions out of 20\n",
      "Finished 5 time divisions out of 20\n",
      "Finished 7 time divisions out of 20\n",
      "Finished 9 time divisions out of 20\n",
      "Finished 11 time divisions out of 20\n",
      "Finished 13 time divisions out of 20\n",
      "Finished 15 time divisions out of 20\n",
      "Finished 17 time divisions out of 20\n",
      "Finished 19 time divisions out of 20\n"
     ]
    }
   ],
   "source": [
    "for i in range(N_time):\n",
    "    for j in range(N):\n",
    "        rand_theta = random.uniform(0, 1)*np.pi/2\n",
    "        dwell_time = molec.run_collision(T=T, theta=rand_theta, b=0, t=(0, time_x[i]), dt = 1, rinit1=150.0, d_molec = 8.78, max_step=0.1, atom=\"Li\")[0]\n",
    "        if math.isclose(dwell_time, time_x[i]*2.41888*10**(-8), rel_tol=0.01): # Convert from time a.u.\n",
    "            number_remaining_Li[i] = number_remaining_Li[i] + 1\n",
    "    if(i%2==0):\n",
    "        print(\"Finished %s time divisions out of %s\" %(i+1, N_time))"
   ]
  },
  {
   "cell_type": "code",
   "execution_count": 116,
   "metadata": {
    "collapsed": true
   },
   "outputs": [],
   "source": [
    "# Get fraction\n",
    "frac_remain_Li = np.divide(number_remaining_Li, N)\n",
    "time_x_ns = np.multiply(time_x, 2.41888*10**(-8))"
   ]
  },
  {
   "cell_type": "code",
   "execution_count": 123,
   "metadata": {
    "collapsed": false
   },
   "outputs": [
    {
     "data": {
      "image/png": "[encoded data removed]",
      "text/plain": [
       "<matplotlib.figure.Figure at 0x1a18ed2beb8>"
      ]
     },
     "metadata": {},
     "output_type": "display_data"
    }
   ],
   "source": [
    "fig = plt.figure()\n",
    "plt.plot(time_x_ns, frac_remain_Li, marker = 'o', linestyle='None')\n",
    "plt.xlabel(\"Dwell time (ns)\")\n",
    "plt.ylabel(\"Fraction left\")\n",
    "plt.show()\n",
    "pp = PdfPages('fraction_left.pdf')\n",
    "pp.savefig(fig)\n",
    "pp.close()"
   ]
  },
  {
   "cell_type": "code",
   "execution_count": null,
   "metadata": {
    "collapsed": false
   },
   "outputs": [],
   "source": []
  },
  {
   "cell_type": "code",
   "execution_count": null,
   "metadata": {
    "collapsed": true
   },
   "outputs": [],
   "source": []
  }
 ],
 "metadata": {
  "anaconda-cloud": {},
  "kernelspec": {
   "display_name": "Python [conda root]",
   "language": "python",
   "name": "conda-root-py"
  },
  "language_info": {
   "codemirror_mode": {
    "name": "ipython",
    "version": 3
   },
   "file_extension": ".py",
   "mimetype": "text/x-python",
   "name": "python",
   "nbconvert_exporter": "python",
   "pygments_lexer": "ipython3",
   "version": "3.5.2"
  }
 },
 "nbformat": 4,
 "nbformat_minor": 2
}
