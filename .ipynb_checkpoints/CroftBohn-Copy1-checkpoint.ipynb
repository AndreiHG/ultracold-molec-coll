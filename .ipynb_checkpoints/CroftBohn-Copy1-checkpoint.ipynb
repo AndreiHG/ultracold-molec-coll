{
 "cells": [
  {
   "cell_type": "code",
   "execution_count": 1,
   "metadata": {
    "collapsed": true
   },
   "outputs": [],
   "source": [
    "import numpy as np\n",
    "import scipy as sp\n",
    "from scipy.integrate import ode\n",
    "import matplotlib.pyplot as plt\n",
    "%matplotlib inline"
   ]
  },
  {
   "cell_type": "code",
   "execution_count": 2,
   "metadata": {
    "collapsed": false
   },
   "outputs": [],
   "source": [
    "kB = 1.38e-23 # [m^2 kg s^-2 K^-1]\n",
    "m = 7 * 1.66e-27 # [kg]\n",
    "C6 = 1394 # C6 for Li+Li\n",
    "De = 334 # De for Li+Li \n",
    "C12 = C6**2/(4*De) # C12 coefficient given atom-atom depth De\n",
    "\n",
    "def VLJ(r):\n",
    "    '''Lennard-Jones potential for a pair of atoms separated by distance r.'''\n",
    "    return C12/r**12 - C6/r**6\n",
    "\n",
    "def Vtot(r1,r2,r3):\n",
    "    '''Total potential energy for all three atoms'''\n",
    "    r12 = np.linalg.norm(r1-r2)\n",
    "    r23 = np.linalg.norm(r2-r3)\n",
    "    r13 = np.linalg.norm(r1-r3)\n",
    "    return VLJ(r12) + VLJ(r23) + VLJ(r13)\n",
    "\n",
    "def dVdr(rA,rB,rC):\n",
    "    '''form of derivative of V for particle A interacting with B and C'''\n",
    "    rAB = rA - rB\n",
    "    rAC = rA - rC\n",
    "    rABnorm = np.linalg.norm(rAB)\n",
    "    rACnorm = np.linalg.norm(rAC)\n",
    "    if (rABnorm>0 and rACnorm>0):\n",
    "        deriv_x = (12*C12*rAB[0])/rABnorm**14 - (6*C6*rAB[0])/rABnorm**8 + \\\n",
    "                  (12*C12*rAC[0])/rACnorm**14 - (6*C6*rAC[0])/rACnorm**8\n",
    "        deriv_y = (12*C12*rAB[1])/rABnorm**14 - (6*C6*rAB[1])/rABnorm**8 + \\\n",
    "                  (12*C12*rAC[1])/rACnorm**14 - (6*C6*rAC[1])/rACnorm**8\n",
    "        deriv_z = (12*C12*rAB[2])/rABnorm**14 - (6*C6*rAB[2])/rABnorm**8 + \\\n",
    "                  (12*C12*rAC[2])/rACnorm**14 - (6*C6*rAC[2])/rACnorm**8\n",
    "    else:\n",
    "        deriv_x = 1000 * np.ones(3)\n",
    "        deriv_y = 1000 * np.ones(3)\n",
    "        deriv_z = 1000 * np.ones(3)\n",
    "        \n",
    "    return np.array([deriv_x, deriv_y, deriv_z])"
   ]
  },
  {
   "cell_type": "markdown",
   "metadata": {},
   "source": [
    "The commented out part is part of the run_collision function."
   ]
  },
  {
   "cell_type": "code",
   "execution_count": 3,
   "metadata": {
    "collapsed": false
   },
   "outputs": [],
   "source": [
    "# # initial time\n",
    "# t0 = 0.0\n",
    "# # initial positions of each atom\n",
    "# rinit1 = 60.0\n",
    "# r0 = np.array([[-rinit1/3,0,0],\n",
    "#                [rinit1/6,-0.4,0],\n",
    "#                [rinit1/6,0.7,0]])\n",
    "# # initial velocities of each atom\n",
    "# T = 0.1\n",
    "# vinit = -np.sqrt(kB*T/m)/10 # in nm/ns\n",
    "# v0 = np.array([[-vinit,0,0],\n",
    "#                [0,0,0],\n",
    "#                [0,0,0]])\n",
    "# # group into vector  of ICs\n",
    "# s0 = np.array([r0,v0])\n",
    "# s0 = s0.flatten()\n",
    "# # rhs of ODE\n",
    "# def f(t, s):\n",
    "#     r1 = s[0:3]\n",
    "#     r2 = s[3:6]\n",
    "#     r3 = s[6:9]\n",
    "#     v1 = s[9:12]\n",
    "#     v2 = s[12:15]\n",
    "#     v3 = s[15:18]\n",
    "    \n",
    "#     dV1 = dVdr(r1,r2,r3)\n",
    "#     dV2 = dVdr(r2,r1,r3)\n",
    "#     dV3 = dVdr(r3,r1,r2)\n",
    "    \n",
    "#     output = np.array([v1,v2,v3,dV1,dV2,dV3]).flatten()\n",
    "#     return output"
   ]
  },
  {
   "cell_type": "code",
   "execution_count": 4,
   "metadata": {
    "collapsed": false
   },
   "outputs": [],
   "source": [
    "# r = ode(f).set_integrator('dop853')\n",
    "# r.set_initial_value(s0, t0)\n",
    "# t1 = 100\n",
    "# dt = 0.01\n",
    "\n",
    "# x1out = np.zeros(int(np.ceil(t1/dt)))\n",
    "# y1out = np.zeros(int(np.ceil(t1/dt)))\n",
    "# z1out = np.zeros(int(np.ceil(t1/dt)))\n",
    "# x2out = np.zeros(int(np.ceil(t1/dt)))\n",
    "# y2out = np.zeros(int(np.ceil(t1/dt)))\n",
    "# z2out = np.zeros(int(np.ceil(t1/dt)))\n",
    "# x3out = np.zeros(int(np.ceil(t1/dt)))\n",
    "# y3out = np.zeros(int(np.ceil(t1/dt)))\n",
    "# z3out = np.zeros(int(np.ceil(t1/dt)))\n",
    "# n = 0\n",
    "# hyperrad = rinit1/2\n",
    "# while hyperrad < rinit1 and r.t < t1:\n",
    "#     ds = r.integrate(r.t+dt)\n",
    "#     x1out[n] = ds[0] + vinit* r.t /3\n",
    "#     y1out[n] = ds[1]\n",
    "#     z1out[n] = ds[2]\n",
    "#     x2out[n] = ds[3] + vinit* r.t /3\n",
    "#     y2out[n] = ds[4]\n",
    "#     z2out[n] = ds[5]\n",
    "#     x3out[n] = ds[6] + vinit* r.t /3\n",
    "#     y3out[n] = ds[7]\n",
    "#     z3out[n] = ds[8]\n",
    "#     hyperrad = np.sqrt(np.sum(ds[0:9]**2))\n",
    "#     n+=1\n",
    "\n",
    "# x1out = x1out[0:n]\n",
    "# y1out = y1out[0:n]\n",
    "# z1out = z1out[0:n]\n",
    "# x2out = x2out[0:n]\n",
    "# y2out = y2out[0:n]\n",
    "# z2out = z2out[0:n]\n",
    "# x3out = x3out[0:n]\n",
    "# y3out = y3out[0:n]\n",
    "# z3out = z3out[0:n]"
   ]
  },
  {
   "cell_type": "markdown",
   "metadata": {},
   "source": [
    "Just recombining all the code above into a function."
   ]
  },
  {
   "cell_type": "code",
   "execution_count": 5,
   "metadata": {
    "collapsed": true
   },
   "outputs": [],
   "source": [
    "# rhs of ODE\n",
    "def f(t, s):\n",
    "    r1 = s[0:3]\n",
    "    r2 = s[3:6]\n",
    "    r3 = s[6:9]\n",
    "    v1 = s[9:12]\n",
    "    v2 = s[12:15]\n",
    "    v3 = s[15:18]\n",
    "    \n",
    "    dV1 = dVdr(r1,r2,r3)\n",
    "    dV2 = dVdr(r2,r1,r3)\n",
    "    dV3 = dVdr(r3,r1,r2)\n",
    "    \n",
    "    output = np.array([v1,v2,v3,dV1,dV2,dV3]).flatten()\n",
    "    return output\n",
    "\n",
    "def run_collision(T, theta = 0, b = 0, t=(0, 100), dt = 0.01, rinit1 = 60.0):\n",
    "    ''' \n",
    "    Runs colision simulation and returns scattering time, as well as vectors of atoms' positions.\n",
    "    \n",
    "    Parameters\n",
    "    ----------\n",
    "    T : float\n",
    "        The temperature of the incoming atom, setting the the collision energy\n",
    "    theta : float\n",
    "        The angle of collision (Defaults to 0)\n",
    "    b : float\n",
    "        The impact parameter of the collision (Defaults to zero)\n",
    "    t : float tuple (t0, t1)\n",
    "        The initial and final time of the intergation (Defaults to (0, 100))\n",
    "    dt : float\n",
    "        The time step of integration (Defaults to 0.01)\n",
    "    rinit1: float\n",
    "        The initial position of the atom (Defaults to 60.0)\n",
    "    \n",
    "    '''\n",
    "    # initial time and end time\n",
    "    t0, t1 = t\n",
    "    # initial positions of atoms\n",
    "    r0 = np.array([[-rinit1/3,0,0],\n",
    "               [rinit1/6,-0.4,0],\n",
    "               [rinit1/6,0.7,0]])\n",
    "    # initial velocities of each atom\n",
    "    vinit = -np.sqrt(kB*T/m)/10 # in nm/ns\n",
    "    v0 = np.array([[-vinit,0,0],\n",
    "                   [0,0,0],\n",
    "                   [0,0,0]])\n",
    "    # group into vector  of ICs\n",
    "    s0 = np.array([r0,v0])\n",
    "    s0 = s0.flatten()\n",
    "    \n",
    "    # set up integrator\n",
    "    r = ode(f).set_integrator('dop853')\n",
    "    r.set_initial_value(s0, t0)\n",
    "\n",
    "    # position vectors\n",
    "    x1out = np.zeros(int(np.ceil(t1/dt)))\n",
    "    y1out = np.zeros(int(np.ceil(t1/dt)))\n",
    "    z1out = np.zeros(int(np.ceil(t1/dt)))\n",
    "    x2out = np.zeros(int(np.ceil(t1/dt)))\n",
    "    y2out = np.zeros(int(np.ceil(t1/dt)))\n",
    "    z2out = np.zeros(int(np.ceil(t1/dt)))\n",
    "    x3out = np.zeros(int(np.ceil(t1/dt)))\n",
    "    y3out = np.zeros(int(np.ceil(t1/dt)))\n",
    "    z3out = np.zeros(int(np.ceil(t1/dt)))\n",
    "    n = 0\n",
    "    hyperrad = rinit1/2\n",
    "        \n",
    "    while hyperrad < rinit1 and r.t < t1:\n",
    "        ds = r.integrate(r.t+dt)\n",
    "        x1out[n] = ds[0] + vinit* r.t /3\n",
    "        y1out[n] = ds[1]\n",
    "        z1out[n] = ds[2]\n",
    "        x2out[n] = ds[3] + vinit* r.t /3\n",
    "        y2out[n] = ds[4]\n",
    "        z2out[n] = ds[5]\n",
    "        x3out[n] = ds[6] + vinit* r.t /3\n",
    "        y3out[n] = ds[7]\n",
    "        z3out[n] = ds[8]\n",
    "        hyperrad = np.sqrt(np.sum(ds[0:9]**2))\n",
    "        n+=1\n",
    "        \n",
    "    return [r.t, x1out, y1out, z1out, x2out, y2out, z2out, x3out, y3out, z3out]"
   ]
  },
  {
   "cell_type": "code",
   "execution_count": 6,
   "metadata": {
    "collapsed": false
   },
   "outputs": [
    {
     "data": {
      "text/plain": [
       "(-7, 7)"
      ]
     },
     "execution_count": 6,
     "metadata": {},
     "output_type": "execute_result"
    },
    {
     "data": {
      "image/png": "[encoded data removed]",
      "text/plain": [
       "<matplotlib.figure.Figure at 0x1a9f7028198>"
      ]
     },
     "metadata": {},
     "output_type": "display_data"
    }
   ],
   "source": [
    "# Example of collision\n",
    "x1out, y1out, z1out, x2out, y2out, z2out, x3out, y3out, z3out = run_collision(T=1)[1:]\n",
    "plt.figure(figsize=(7,7))\n",
    "plt.plot(y1out,x1out,'C2')\n",
    "plt.plot(y2out,x2out,'C3')\n",
    "plt.plot(y3out,x3out,'C4')\n",
    "plt.xlim(-7,7)\n",
    "plt.ylim(-7,7)"
   ]
  },
  {
   "cell_type": "markdown",
   "metadata": {},
   "source": [
    "# Lifetime as a function of collision energy"
   ]
  },
  {
   "cell_type": "code",
   "execution_count": 7,
   "metadata": {
    "collapsed": true
   },
   "outputs": [],
   "source": [
    "# Use run_tests to only run simulations when making an update on the data (to avoid having to wait every time)\n",
    "run_tests = 0\n",
    "Tlist = [0.1, 0.25, 0.5, 0.75, 1, 2, 5, 7.5, 10, 20, 40, 50, 75, 100]\n",
    "#Tlist = [0.1, 0.5, 1, 10, 20,50, 100]\n",
    "if run_tests:\n",
    "    tlist = []\n",
    "    for T in Tlist:\n",
    "        tlist = np.append(tlist, run_collision(T)[0]) "
   ]
  },
  {
   "cell_type": "code",
   "execution_count": 8,
   "metadata": {
    "collapsed": false
   },
   "outputs": [
    {
     "data": {
      "text/plain": [
       "array([ -0.39406209,  27.41059219])"
      ]
     },
     "execution_count": 8,
     "metadata": {},
     "output_type": "execute_result"
    }
   ],
   "source": [
    "# Fit power law\n",
    "\n",
    "fitfunc = lambda p, x: p[1]*x**(p[0]) # Target function\n",
    "errfunc = lambda p, x, y: fitfunc(p, x) - y # Distance to the target function\n",
    "p0 = [-1, 1] # Initial guess for the parameters\n",
    "p1, success = sp.optimize.leastsq(errfunc, p0[:], args=(Tlist, tlist))\n",
    "p1"
   ]
  },
  {
   "cell_type": "code",
   "execution_count": 9,
   "metadata": {
    "collapsed": false
   },
   "outputs": [
    {
     "data": {
      "text/plain": [
       "[<matplotlib.lines.Line2D at 0x1a9f8129240>]"
      ]
     },
     "execution_count": 9,
     "metadata": {},
     "output_type": "execute_result"
    },
    {
     "data": {
      "image/png": "[encoded data removed]",
      "text/plain": [
       "<matplotlib.figure.Figure at 0x1a9f70dbc18>"
      ]
     },
     "metadata": {},
     "output_type": "display_data"
    }
   ],
   "source": [
    "# Plot lifetime and fitted power law\n",
    "\n",
    "Tpowerlaw = np.linspace(0.1,100,20)\n",
    "plt.loglog(Tlist,tlist,'ro')\n",
    "plt.loglog(Tpowerlaw,fitfunc(p1, Tpowerlaw),'k')"
   ]
  },
  {
   "cell_type": "code",
   "execution_count": null,
   "metadata": {
    "collapsed": true
   },
   "outputs": [],
   "source": []
  }
 ],
 "metadata": {
  "anaconda-cloud": {},
  "kernelspec": {
   "display_name": "Python [default]",
   "language": "python",
   "name": "python3"
  },
  "language_info": {
   "codemirror_mode": {
    "name": "ipython",
    "version": 3
   },
   "file_extension": ".py",
   "mimetype": "text/x-python",
   "name": "python",
   "nbconvert_exporter": "python",
   "pygments_lexer": "ipython3",
   "version": "3.5.2"
  }
 },
 "nbformat": 4,
 "nbformat_minor": 2
}
