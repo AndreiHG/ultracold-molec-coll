{
 "cells": [
  {
   "cell_type": "code",
   "execution_count": 127,
   "metadata": {
    "collapsed": true
   },
   "outputs": [],
   "source": [
    "import numpy as np\n",
    "import scipy as sp\n",
    "from scipy.integrate import ode\n",
    "import matplotlib.pyplot as plt\n",
    "import time\n",
    "import random\n",
    "%matplotlib inline"
   ]
  },
  {
   "cell_type": "code",
   "execution_count": 3,
   "metadata": {
    "collapsed": false
   },
   "outputs": [],
   "source": [
    "kB = 1.38e-23 # [m^2 kg s^-2 K^-1]\n",
    "m = 7 * 1.66e-27 # [kg]\n",
    "C6 = 1394 # C6 for Li+Li\n",
    "De = 334 # De for Li+Li \n",
    "C12 = C6**2/(4*De) # C12 coefficient given atom-atom depth De\n",
    "\n",
    "def VLJ(r):\n",
    "    '''Lennard-Jones potential for a pair of atoms separated by distance r.'''\n",
    "    return C12/r**12 - C6/r**6\n",
    "\n",
    "def Vtot(r1,r2,r3):\n",
    "    '''Total potential energy for all three atoms'''\n",
    "    r12 = np.linalg.norm(r1-r2)\n",
    "    r23 = np.linalg.norm(r2-r3)\n",
    "    r13 = np.linalg.norm(r1-r3)\n",
    "    return VLJ(r12) + VLJ(r23) + VLJ(r13)\n",
    "\n",
    "def dVdr(rA,rB,rC):\n",
    "    '''form of derivative of V for particle A interacting with B and C'''\n",
    "    rAB = rA - rB\n",
    "    rAC = rA - rC\n",
    "    rABnorm = np.linalg.norm(rAB)\n",
    "    rACnorm = np.linalg.norm(rAC)\n",
    "    if (rABnorm>0 and rACnorm>0):\n",
    "        deriv_x = (12*C12*rAB[0])/rABnorm**14 - (6*C6*rAB[0])/rABnorm**8 + \\\n",
    "                  (12*C12*rAC[0])/rACnorm**14 - (6*C6*rAC[0])/rACnorm**8\n",
    "        deriv_y = (12*C12*rAB[1])/rABnorm**14 - (6*C6*rAB[1])/rABnorm**8 + \\\n",
    "                  (12*C12*rAC[1])/rACnorm**14 - (6*C6*rAC[1])/rACnorm**8\n",
    "        deriv_z = (12*C12*rAB[2])/rABnorm**14 - (6*C6*rAB[2])/rABnorm**8 + \\\n",
    "                  (12*C12*rAC[2])/rACnorm**14 - (6*C6*rAC[2])/rACnorm**8\n",
    "    else:\n",
    "        deriv_x = 1000 * np.ones(3)\n",
    "        deriv_y = 1000 * np.ones(3)\n",
    "        deriv_z = 1000 * np.ones(3)\n",
    "        \n",
    "    return np.array([deriv_x, deriv_y, deriv_z])"
   ]
  },
  {
   "cell_type": "markdown",
   "metadata": {},
   "source": [
    "The commented out part is part of the run_collision function."
   ]
  },
  {
   "cell_type": "code",
   "execution_count": 4,
   "metadata": {
    "collapsed": false
   },
   "outputs": [],
   "source": [
    "# # initial time\n",
    "# t0 = 0.0\n",
    "# # initial positions of each atom\n",
    "# rinit1 = 60.0\n",
    "# r0 = np.array([[-rinit1/3,0,0],\n",
    "#                [rinit1/6,-0.4,0],\n",
    "#                [rinit1/6,0.7,0]])\n",
    "# # initial velocities of each atom\n",
    "# T = 0.1\n",
    "# vinit = -np.sqrt(kB*T/m)/10 # in nm/ns\n",
    "# v0 = np.array([[-vinit,0,0],\n",
    "#                [0,0,0],\n",
    "#                [0,0,0]])\n",
    "# # group into vector  of ICs\n",
    "# s0 = np.array([r0,v0])\n",
    "# s0 = s0.flatten()\n",
    "# # rhs of ODE\n",
    "# def f(t, s):\n",
    "#     r1 = s[0:3]\n",
    "#     r2 = s[3:6]\n",
    "#     r3 = s[6:9]\n",
    "#     v1 = s[9:12]\n",
    "#     v2 = s[12:15]\n",
    "#     v3 = s[15:18]\n",
    "    \n",
    "#     dV1 = dVdr(r1,r2,r3)\n",
    "#     dV2 = dVdr(r2,r1,r3)\n",
    "#     dV3 = dVdr(r3,r1,r2)\n",
    "    \n",
    "#     output = np.array([v1,v2,v3,dV1,dV2,dV3]).flatten()\n",
    "#     return output"
   ]
  },
  {
   "cell_type": "code",
   "execution_count": 5,
   "metadata": {
    "collapsed": false
   },
   "outputs": [],
   "source": [
    "# r = ode(f).set_integrator('dop853')\n",
    "# r.set_initial_value(s0, t0)\n",
    "# t1 = 100\n",
    "# dt = 0.01\n",
    "\n",
    "# x1out = np.zeros(int(np.ceil(t1/dt)))\n",
    "# y1out = np.zeros(int(np.ceil(t1/dt)))\n",
    "# z1out = np.zeros(int(np.ceil(t1/dt)))\n",
    "# x2out = np.zeros(int(np.ceil(t1/dt)))\n",
    "# y2out = np.zeros(int(np.ceil(t1/dt)))\n",
    "# z2out = np.zeros(int(np.ceil(t1/dt)))\n",
    "# x3out = np.zeros(int(np.ceil(t1/dt)))\n",
    "# y3out = np.zeros(int(np.ceil(t1/dt)))\n",
    "# z3out = np.zeros(int(np.ceil(t1/dt)))\n",
    "# n = 0\n",
    "# hyperrad = rinit1/2\n",
    "# while hyperrad < rinit1 and r.t < t1:\n",
    "#     ds = r.integrate(r.t+dt)\n",
    "#     x1out[n] = ds[0] + vinit* r.t /3\n",
    "#     y1out[n] = ds[1]\n",
    "#     z1out[n] = ds[2]\n",
    "#     x2out[n] = ds[3] + vinit* r.t /3\n",
    "#     y2out[n] = ds[4]\n",
    "#     z2out[n] = ds[5]\n",
    "#     x3out[n] = ds[6] + vinit* r.t /3\n",
    "#     y3out[n] = ds[7]\n",
    "#     z3out[n] = ds[8]\n",
    "#     hyperrad = np.sqrt(np.sum(ds[0:9]**2))\n",
    "#     n+=1\n",
    "\n",
    "# x1out = x1out[0:n]\n",
    "# y1out = y1out[0:n]\n",
    "# z1out = z1out[0:n]\n",
    "# x2out = x2out[0:n]\n",
    "# y2out = y2out[0:n]\n",
    "# z2out = z2out[0:n]\n",
    "# x3out = x3out[0:n]\n",
    "# y3out = y3out[0:n]\n",
    "# z3out = z3out[0:n]"
   ]
  },
  {
   "cell_type": "markdown",
   "metadata": {},
   "source": [
    "Just recombining all the code above into a function."
   ]
  },
  {
   "cell_type": "code",
   "execution_count": 104,
   "metadata": {
    "collapsed": false
   },
   "outputs": [],
   "source": [
    "# rhs of ODE\n",
    "def f_ODE(t, s):\n",
    "    r1 = s[0:3]\n",
    "    r2 = s[3:6]\n",
    "    r3 = s[6:9]\n",
    "    v1 = s[9:12]\n",
    "    v2 = s[12:15]\n",
    "    v3 = s[15:18]\n",
    "    \n",
    "    dV1 = dVdr(r1,r2,r3)\n",
    "    dV2 = dVdr(r2,r1,r3)\n",
    "    dV3 = dVdr(r3,r1,r2)\n",
    "    \n",
    "    output = np.array([v1,v2,v3,dV1,dV2,dV3]).flatten()\n",
    "    return output\n",
    "\n",
    "def run_collision(T, theta = np.pi/2, b = 0, t=(0, 100), dt = 0.01, rinit1 = 60.0, max_step = 0.1):\n",
    "    ''' \n",
    "    Runs colision simulation and returns scattering time, as well as vectors of atoms' positions.\n",
    "    \n",
    "    Parameters\n",
    "    ----------\n",
    "    T : float\n",
    "        The temperature of the incoming atom, setting the the collision energy\n",
    "    theta : float\n",
    "        The angle of the molecule (Defaults to Pi/2, so molecule is perpendicular to atom's initial trajectory)\n",
    "    b : float\n",
    "        The impact parameter of the collision (Defaults to zero)\n",
    "    t : float tuple (t0, t1)\n",
    "        The initial and final time of the intergation (Defaults to (0, 100))\n",
    "    dt : float\n",
    "        The time step of integration (Defaults to 0.01)\n",
    "    rinit1: float\n",
    "        The initial position of the atom (Defaults to 60.0)\n",
    "    \n",
    "    '''\n",
    "    # initial time and end time\n",
    "    t0, t1 = t\n",
    "    ## initial positions of atoms\n",
    "    # distance between dimer's atoms\n",
    "    d_molec = 1.1\n",
    "    r0 = np.array([[-rinit1/3, 0, 0],\n",
    "               [rinit1/6+d_molec*np.cos(theta)/2, -d_molec*np.sin(theta)/2, 0],\n",
    "               [rinit1/6-d_molec*np.cos(theta)/2,d_molec*np.sin(theta)/2,0]])\n",
    "\n",
    "    # initial velocities of each atom\n",
    "    vinit = -np.sqrt(kB*T/m)/10 # in nm/ns\n",
    "    v0 = np.array([[-vinit,0,0],\n",
    "                   [0,0,0],\n",
    "                   [0,0,0]])\n",
    "    # group into vector  of ICs\n",
    "    s0 = np.array([r0,v0])\n",
    "    s0 = s0.flatten()\n",
    "    \n",
    "    # set up integrator\n",
    "    r = ode(f_ODE).set_integrator('dop853', max_step = max_step)\n",
    "    r.set_initial_value(s0, t0)\n",
    "\n",
    "    # position vectors\n",
    "    x1out = np.zeros(int(np.ceil(t1/dt)))\n",
    "    y1out = np.zeros(int(np.ceil(t1/dt)))\n",
    "    z1out = np.zeros(int(np.ceil(t1/dt)))\n",
    "    x2out = np.zeros(int(np.ceil(t1/dt)))\n",
    "    y2out = np.zeros(int(np.ceil(t1/dt)))\n",
    "    z2out = np.zeros(int(np.ceil(t1/dt)))\n",
    "    x3out = np.zeros(int(np.ceil(t1/dt)))\n",
    "    y3out = np.zeros(int(np.ceil(t1/dt)))\n",
    "    z3out = np.zeros(int(np.ceil(t1/dt)))\n",
    "    n = 0\n",
    "    hyperrad = rinit1/2\n",
    "        \n",
    "    while hyperrad < rinit1 and r.t < t1:\n",
    "        ds = r.integrate(r.t+dt)\n",
    "        x1out[n] = ds[0] + vinit* r.t /3\n",
    "        y1out[n] = ds[1]\n",
    "        z1out[n] = ds[2]\n",
    "        x2out[n] = ds[3] + vinit* r.t /3\n",
    "        y2out[n] = ds[4]\n",
    "        z2out[n] = ds[5]\n",
    "        x3out[n] = ds[6] + vinit* r.t /3\n",
    "        y3out[n] = ds[7]\n",
    "        z3out[n] = ds[8]\n",
    "        hyperrad = np.sqrt(np.sum(ds[0:9]**2))\n",
    "        n+=1\n",
    "        \n",
    "    x1out = x1out[0:n]\n",
    "    y1out = y1out[0:n]\n",
    "    z1out = z1out[0:n]\n",
    "    x2out = x2out[0:n]\n",
    "    y2out = y2out[0:n]\n",
    "    z2out = z2out[0:n]\n",
    "    x3out = x3out[0:n]\n",
    "    y3out = y3out[0:n]\n",
    "    z3out = z3out[0:n]\n",
    "    \n",
    "    # check which of the three atoms emerges independently\n",
    "    r1_final = np.array([x1out[-1], y1out[-1], z1out[-1]])\n",
    "    r2_final = np.array([x2out[-1], y2out[-1], z2out[-1]])\n",
    "    r3_final = np.array([x3out[-1], y3out[-1], z3out[-1]])\n",
    "    r12 = np.sqrt(np.sum((r1_final-r2_final)**2))\n",
    "    r13 = np.sqrt(np.sum((r1_final-r3_final)**2))\n",
    "    r23 = np.sqrt(np.sum((r3_final-r2_final)**2))\n",
    "    \n",
    "    #print(\"r12 %0.2f, r13 %0.2f, r23 %0.2f\" %(r12, r13, r23))\n",
    "    basin = 0 # the three atoms emerge separately\n",
    "    if r12<2: basin=1\n",
    "    elif r13<2: basin=2\n",
    "    else: basin=3\n",
    "        \n",
    "    return [r.t, basin, x1out, y1out, z1out, x2out, y2out, z2out, x3out, y3out, z3out]"
   ]
  },
  {
   "cell_type": "code",
   "execution_count": 105,
   "metadata": {
    "collapsed": false
   },
   "outputs": [
    {
     "data": {
      "text/plain": [
       "(-7, 7)"
      ]
     },
     "execution_count": 105,
     "metadata": {},
     "output_type": "execute_result"
    },
    {
     "data": {
      "image/png": "[encoded data removed]",
      "text/plain": [
       "<matplotlib.figure.Figure at 0x12d36a36d30>"
      ]
     },
     "metadata": {},
     "output_type": "display_data"
    }
   ],
   "source": [
    "# Example of collision\n",
    "x1out, y1out, z1out, x2out, y2out, z2out, x3out, y3out, z3out = run_collision(T=10, theta = np.pi/2)[2:]\n",
    "plt.figure(figsize=(7,7))\n",
    "plt.plot(y1out,x1out,'C2')\n",
    "plt.plot(y2out,x2out,'C3')\n",
    "plt.plot(y3out,x3out,'C4')\n",
    "plt.xlim(-7,7)\n",
    "plt.ylim(-7,7)"
   ]
  },
  {
   "cell_type": "markdown",
   "metadata": {},
   "source": [
    "# Lifetime as a function of collision energy"
   ]
  },
  {
   "cell_type": "code",
   "execution_count": 28,
   "metadata": {
    "collapsed": true
   },
   "outputs": [],
   "source": [
    "# Use run_tests to only run simulations when making an update on the data (to avoid having to wait every time)\n",
    "run_tests = 0\n",
    "Tlist = [0.1, 0.25, 0.5, 0.75, 1, 2, 5, 7.5, 10, 20, 40, 50, 75, 100]\n",
    "#Tlist = [0.1, 0.5, 1, 10, 20,50, 100]\n",
    "if run_tests:\n",
    "    tlist = []\n",
    "    for T in Tlist:\n",
    "        tlist = np.append(tlist, run_collision(T)[0]) \n",
    "else:\n",
    "    tlist = np.array([58.56, 60.26, 41.18, 33.52, 26.68, 17.62, 10.45, 10.55, 9.48, 6.4 , 4.64, 3.54, 2.87, 2.49])"
   ]
  },
  {
   "cell_type": "code",
   "execution_count": 29,
   "metadata": {
    "collapsed": false
   },
   "outputs": [
    {
     "data": {
      "text/plain": [
       "array([ -0.39406209,  27.4105922 ])"
      ]
     },
     "execution_count": 29,
     "metadata": {},
     "output_type": "execute_result"
    }
   ],
   "source": [
    "# Fit power law\n",
    "\n",
    "fitfunc = lambda p, x: p[1]*x**(p[0]) # Target function\n",
    "errfunc = lambda p, x, y: fitfunc(p, x) - y # Distance to the target function\n",
    "p0 = [-1, 1] # Initial guess for the parameters\n",
    "p1, success = sp.optimize.leastsq(errfunc, p0[:], args=(Tlist, tlist))\n",
    "p1"
   ]
  },
  {
   "cell_type": "code",
   "execution_count": 30,
   "metadata": {
    "collapsed": false
   },
   "outputs": [
    {
     "data": {
      "text/plain": [
       "[<matplotlib.lines.Line2D at 0x16eb00e8e80>]"
      ]
     },
     "execution_count": 30,
     "metadata": {},
     "output_type": "execute_result"
    },
    {
     "data": {
      "image/png": "[encoded data removed]",
      "text/plain": [
       "<matplotlib.figure.Figure at 0x16eaefe1898>"
      ]
     },
     "metadata": {},
     "output_type": "display_data"
    }
   ],
   "source": [
    "# Plot lifetime and fitted power law\n",
    "\n",
    "Tpowerlaw = np.linspace(0.1,100,20)\n",
    "plt.loglog(Tlist,tlist,'ro')\n",
    "plt.loglog(Tpowerlaw,fitfunc(p1, Tpowerlaw),'k')"
   ]
  },
  {
   "cell_type": "markdown",
   "metadata": {},
   "source": [
    "# Varying step size"
   ]
  },
  {
   "cell_type": "code",
   "execution_count": null,
   "metadata": {
    "collapsed": false
   },
   "outputs": [
    {
     "name": "stderr",
     "output_type": "stream",
     "text": [
      "C:\\Users\\AndreiHoria\\Anaconda3\\lib\\site-packages\\scipy\\integrate\\_ode.py:1035: UserWarning: dop853: larger nmax is needed\n",
      "  self.messages.get(idid, 'Unexpected idid=%s' % idid))\n"
     ]
    }
   ],
   "source": [
    "# Example of effect of max step size\n",
    "# fig, (ax1, ax2, ax3) = plt.subplots(1, 3, sharey=True)\n",
    "# fig.set_size_inches(15,5)\n",
    "\n",
    "x1out, y1out, z1out, x2out, y2out, z2out, x3out, y3out, z3out = run_collision(T=10, theta = np.pi/2, max_step = 0.01)[2:]\n",
    "# ax1.set_title(\"max_step = 0.01\")\n",
    "# ax1.plot(y1out,x1out,'C2')\n",
    "# ax1.plot(y2out,x2out,'C3')\n",
    "# ax1.plot(y3out,x3out,'C4')\n",
    "# ax1.set_xlim(-7,7)\n",
    "# ax1.set_ylim(-7,7)\n",
    "\n",
    "x1out, y1out, z1out, x2out, y2out, z2out, x3out, y3out, z3out = run_collision(T=10, theta = np.pi/2, max_step = 0.001)[2:]\n",
    "# ax2.set_title(\"max_step = 0.001\")\n",
    "# ax2.plot(y1out,x1out,'C2')\n",
    "# ax2.plot(y2out,x2out,'C3')\n",
    "# ax2.plot(y3out,x3out,'C4')\n",
    "# ax2.set_xlim(-7,7)\n",
    "# ax2.set_ylim(-7,7)\n",
    "\n",
    "x1out, y1out, z1out, x2out, y2out, z2out, x3out, y3out, z3out = run_collision(T=10, theta = np.pi/2, max_step = 0.00001)[2:]\n",
    "# ax3.set_title(\"max_step = 0.0001\")\n",
    "# ax3.plot(y1out,x1out,'C2')\n",
    "# ax3.plot(y2out,x2out,'C3')\n",
    "# ax3.plot(y3out,x3out,'C4')\n",
    "# ax3.set_xlim(-7,7)\n",
    "# ax3.set_ylim(-7,7)"
   ]
  },
  {
   "cell_type": "markdown",
   "metadata": {},
   "source": [
    "For bigger step sizes we get fundamentally different results. For $max\\_step = 0.01$ we get A + BC, for $max\\_step = 0.001$ we get AC+B, while for $$ max\\-step = 0.00001$ we get AB+C."
   ]
  },
  {
   "cell_type": "markdown",
   "metadata": {
    "collapsed": true
   },
   "source": [
    "# Chaos: function of impact angle $\\theta$"
   ]
  },
  {
   "cell_type": "code",
   "execution_count": 150,
   "metadata": {
    "collapsed": false
   },
   "outputs": [
    {
     "name": "stdout",
     "output_type": "stream",
     "text": [
      "r12 38.14, r13 38.14, r23 40.99\n",
      "r12 22.24, r13 42.28, r23 46.40\n",
      "r12 38.46, r13 29.02, r23 47.12\n"
     ]
    },
    {
     "data": {
      "text/plain": [
       "(-7, 7)"
      ]
     },
     "execution_count": 150,
     "metadata": {},
     "output_type": "execute_result"
    },
    {
     "data": {
      "image/png": "[encoded data removed]",
      "text/plain": [
       "<matplotlib.figure.Figure at 0x16eaee27860>"
      ]
     },
     "metadata": {},
     "output_type": "display_data"
    }
   ],
   "source": [
    "# Example of effect of mlecule orientation\n",
    "T = 500\n",
    "\n",
    "fig, (ax1, ax2, ax3) = plt.subplots(1, 3, sharey=True)\n",
    "fig.set_size_inches(15,5)\n",
    "\n",
    "x1out, y1out, z1out, x2out, y2out, z2out, x3out, y3out, z3out = run_collision(T=T, theta = np.pi/2)[2:]\n",
    "ax1.set_title(\"theta = pi/2\")\n",
    "ax1.plot(y1out,x1out,'C2')\n",
    "ax1.plot(y2out,x2out,'C3')\n",
    "ax1.plot(y3out,x3out,'C4')\n",
    "ax1.set_xlim([-7,7])\n",
    "ax1.set_ylim([-7,7])\n",
    "\n",
    "x1out, y1out, z1out, x2out, y2out, z2out, x3out, y3out, z3out = run_collision(T=T, theta = np.pi/4)[2:]\n",
    "ax2.set_title(\"theta = pi/4\")\n",
    "ax2.plot(y1out,x1out,'C2')\n",
    "ax2.plot(y2out,x2out,'C3')\n",
    "ax2.plot(y3out,x3out,'C4')\n",
    "ax2.set_xlim([-7,7])\n",
    "ax2.set_ylim([-7,7])\n",
    "\n",
    "x1out, y1out, z1out, x2out, y2out, z2out, x3out, y3out, z3out = run_collision(T=T, theta = np.pi/12)[2:]\n",
    "ax3.set_title(\"theta = pi/12\")\n",
    "ax3.plot(y1out,x1out,'C2')\n",
    "ax3.plot(y2out,x2out,'C3')\n",
    "ax3.plot(y3out,x3out,'C4')\n",
    "ax3.set_xlim([-7,7])\n",
    "ax3.set_ylim([-7,7])"
   ]
  },
  {
   "cell_type": "markdown",
   "metadata": {},
   "source": [
    "Lifetime as a function of initial orientation of moelcule, given by $\\theta$.\n",
    "\n",
    "For N = 500, T = 100 K, simulation took 338s."
   ]
  },
  {
   "cell_type": "code",
   "execution_count": 64,
   "metadata": {
    "collapsed": false
   },
   "outputs": [
    {
     "name": "stdout",
     "output_type": "stream",
     "text": [
      "Running simulation took 338.71 seconds\n"
     ]
    },
    {
     "data": {
      "image/png": "[encoded data removed]",
      "text/plain": [
       "<matplotlib.figure.Figure at 0x12d36aa0400>"
      ]
     },
     "metadata": {},
     "output_type": "display_data"
    }
   ],
   "source": [
    "# Run simlulation\n",
    "run_simulation = 0\n",
    "N_theta = 500\n",
    "theta_i = 0\n",
    "theta_f = np.pi/2\n",
    "theta = np.linspace(theta_i, theta_f, N_theta)\n",
    "\n",
    "if run_simulation:\n",
    "    t = time.time()\n",
    "    T = 100\n",
    "    basin=0;\n",
    "    collison = np.zeros(11)\n",
    "\n",
    "    theta_lifetime = np.zeros((4, N_theta))\n",
    "    theta_basins_N = np.zeros(4, dtype=int)\n",
    "    theta_theta = np.zeros((4, N_theta))\n",
    "\n",
    "    for i in range(N_theta):\n",
    "        collison = run_collision(T=T, theta=theta[i])\n",
    "        basin = collison[1]\n",
    "        theta_basins_N[basin] += 1\n",
    "        theta_lifetime[basin][theta_basins_N[basin]] = collison[0]\n",
    "        theta_theta[basin][theta_basins_N[basin]] = theta[i]\n",
    "    \n",
    "    elapsed_time = time.time() - t\n",
    "    print(\"Running simulation took %0.2f seconds\" %(elapsed_time))\n",
    "    \n",
    "# Plot results\n",
    "legend_str=[]\n",
    "if not len(theta_lifetime[0][:theta_basins_N[0]])==0: \n",
    "    plt.plot(theta_theta[0][0:theta_basins_N[0]]/np.pi, theta_lifetime[0][0:theta_basins_N[0]],  'r^')\n",
    "    legend_str.append(\"A+B+C\")\n",
    "if not len(theta_lifetime[1][:theta_basins_N[1]])==0:\n",
    "    plt.plot(theta_theta[1][0:theta_basins_N[1]]/np.pi, theta_lifetime[1][0:theta_basins_N[1]],  'b^')\n",
    "    legend_str.append(\"AB+C\")\n",
    "if not len(theta_lifetime[2][:theta_basins_N[2]])==0:\n",
    "    plt.plot(theta_theta[2][0:theta_basins_N[2]]/np.pi, theta_lifetime[2][0:theta_basins_N[2]],  'g^')\n",
    "    legend_str.append(\"AC+B\")  \n",
    "if not len(theta_lifetime[3][:theta_basins_N[3]])==0: \n",
    "    plt.plot(theta_theta[3][0:theta_basins_N[3]]/np.pi, theta_lifetime[3][0:theta_basins_N[3]],  'c^')\n",
    "    legend_str.append(\"A+BC\")\n",
    "plt.xlabel(\"theta/pi\")\n",
    "plt.ylabel(\"Lifetime (ns)\")\n",
    "plt.title(\"T = %s, N = %s\" %(T, N_theta))\n",
    "plt.legend(legend_str)\n",
    "plt.ylim([2,3])\n",
    "plt.show()"
   ]
  },
  {
   "cell_type": "markdown",
   "metadata": {},
   "source": [
    "For N = 500, T = 100 K, simulation took 90 s."
   ]
  },
  {
   "cell_type": "code",
   "execution_count": 73,
   "metadata": {
    "collapsed": false
   },
   "outputs": [
    {
     "data": {
      "image/png": "[encoded data removed]",
      "text/plain": [
       "<matplotlib.figure.Figure at 0x12d3696d0b8>"
      ]
     },
     "metadata": {},
     "output_type": "display_data"
    }
   ],
   "source": [
    "# Run simlulation\n",
    "run_simulation = 0\n",
    "N_theta = 500\n",
    "theta_i = 0\n",
    "theta_f = np.pi/2\n",
    "theta = np.linspace(theta_i, theta_f, N_theta)\n",
    "\n",
    "if run_simulation:\n",
    "    t = time.time()\n",
    "    T = 500\n",
    "    basin=0;\n",
    "    collison = np.zeros(11)\n",
    "\n",
    "    theta_lifetime = np.zeros((4, N_theta))\n",
    "    theta_basins_N = np.zeros(4, dtype=int)\n",
    "    theta_theta = np.zeros((4, N_theta))\n",
    "\n",
    "    for i in range(N_theta):\n",
    "        collison = run_collision(T=T, theta=theta[i])\n",
    "        basin = collison[1]\n",
    "        theta_basins_N[basin] += 1\n",
    "        theta_lifetime[basin][theta_basins_N[basin]] = collison[0]\n",
    "        theta_theta[basin][theta_basins_N[basin]] = theta[i]\n",
    "    \n",
    "    elapsed_time = time.time() - t\n",
    "    print(\"Running simulation took %0.2f seconds\" %(elapsed_time))\n",
    "    \n",
    "# Plot results\n",
    "legend_str=[]\n",
    "if not len(theta_lifetime[0][:theta_basins_N[0]])==0: \n",
    "    plt.plot(theta_theta[0][0:theta_basins_N[0]]/np.pi, theta_lifetime[0][0:theta_basins_N[0]],  'r^')\n",
    "    legend_str.append(\"A+B+C\")\n",
    "if not len(theta_lifetime[1][:theta_basins_N[1]])==0:\n",
    "    plt.plot(theta_theta[1][0:theta_basins_N[1]]/np.pi, theta_lifetime[1][0:theta_basins_N[1]],  'b^')\n",
    "    legend_str.append(\"AB+C\")\n",
    "if not len(theta_lifetime[2][:theta_basins_N[2]])==0:\n",
    "    plt.plot(theta_theta[2][0:theta_basins_N[2]]/np.pi, theta_lifetime[2][0:theta_basins_N[2]],  'g^')\n",
    "    legend_str.append(\"AC+B\")  \n",
    "if not len(theta_lifetime[3][:theta_basins_N[3]])==0: \n",
    "    plt.plot(theta_theta[3][0:theta_basins_N[3]]/np.pi, theta_lifetime[3][0:theta_basins_N[3]],  'c^')\n",
    "    legend_str.append(\"A+BC\")\n",
    "plt.xlabel(\"theta/pi\")\n",
    "plt.ylabel(\"Lifetime (ns)\")\n",
    "plt.title(\"T = %s, N = %s\" %(T, N_theta))\n",
    "plt.legend(legend_str)\n",
    "plt.ylim([0.98, 1.05])\n",
    "plt.show()"
   ]
  },
  {
   "cell_type": "markdown",
   "metadata": {},
   "source": [
    "So it seems that we are getting some rounding in the lifetime..."
   ]
  },
  {
   "cell_type": "code",
   "execution_count": 120,
   "metadata": {
    "collapsed": false
   },
   "outputs": [
    {
     "data": {
      "image/png": "[encoded data removed]",
      "text/plain": [
       "<matplotlib.figure.Figure at 0x12d36a1cd68>"
      ]
     },
     "metadata": {},
     "output_type": "display_data"
    }
   ],
   "source": [
    "# Run simlulation\n",
    "run_simulation = 0\n",
    "N_theta = 500\n",
    "theta_i = 0\n",
    "theta_f = np.pi/2\n",
    "theta = np.linspace(theta_i, theta_f, N_theta)\n",
    "\n",
    "if run_simulation:\n",
    "    t = time.time()\n",
    "    T = 2000\n",
    "    basin=0;\n",
    "    collison = np.zeros(11)\n",
    "\n",
    "    theta_lifetime = np.zeros((4, N_theta))\n",
    "    theta_basins_N = np.zeros(4, dtype=int)\n",
    "    theta_theta = np.zeros((4, N_theta))\n",
    "\n",
    "    for i in range(N_theta):\n",
    "        collison = run_collision(T=T, theta=theta[i], max_step=0.01)\n",
    "        basin = collison[1]\n",
    "        theta_basins_N[basin] += 1\n",
    "        theta_lifetime[basin][theta_basins_N[basin]] = collison[0]\n",
    "        theta_theta[basin][theta_basins_N[basin]] = theta[i]\n",
    "    \n",
    "    elapsed_time = time.time() - t\n",
    "    print(\"Running simulation took %0.2f seconds\" %(elapsed_time))\n",
    "    \n",
    "# Plot results\n",
    "legend_str=[]\n",
    "if not len(theta_lifetime[0][:theta_basins_N[0]])==0: \n",
    "    plt.plot(theta_theta[0][0:theta_basins_N[0]]/np.pi, theta_lifetime[0][0:theta_basins_N[0]],  'r^')\n",
    "    legend_str.append(\"A+B+C\")\n",
    "if not len(theta_lifetime[1][:theta_basins_N[1]])==0:\n",
    "    plt.plot(theta_theta[1][0:theta_basins_N[1]]/np.pi, theta_lifetime[1][0:theta_basins_N[1]],  'b^')\n",
    "    legend_str.append(\"AB+C\")\n",
    "if not len(theta_lifetime[2][:theta_basins_N[2]])==0:\n",
    "    plt.plot(theta_theta[2][0:theta_basins_N[2]]/np.pi, theta_lifetime[2][0:theta_basins_N[2]],  'g^')\n",
    "    legend_str.append(\"AC+B\")  \n",
    "if not len(theta_lifetime[3][:theta_basins_N[3]])==0: \n",
    "    plt.plot(theta_theta[3][0:theta_basins_N[3]]/np.pi, theta_lifetime[3][0:theta_basins_N[3]],  'c^')\n",
    "    legend_str.append(\"A+BC\")\n",
    "plt.xlabel(\"theta/pi\")\n",
    "plt.ylabel(\"Lifetime (ns)\")\n",
    "plt.title(\"T = %s, N = %s\" %(T, N_theta))\n",
    "plt.legend(legend_str)\n",
    "plt.ylim([0.45, 0.55])\n",
    "plt.show()"
   ]
  },
  {
   "cell_type": "code",
   "execution_count": 121,
   "metadata": {
    "collapsed": false
   },
   "outputs": [
    {
     "data": {
      "text/plain": [
       "0.51000000000000023"
      ]
     },
     "execution_count": 121,
     "metadata": {},
     "output_type": "execute_result"
    }
   ],
   "source": [
    "theta_lifetime[1][1]"
   ]
  },
  {
   "cell_type": "code",
   "execution_count": 126,
   "metadata": {
    "collapsed": false
   },
   "outputs": [
    {
     "data": {
      "text/plain": [
       "0.51000000000000023"
      ]
     },
     "execution_count": 126,
     "metadata": {},
     "output_type": "execute_result"
    }
   ],
   "source": [
    "theta_lifetime[3][10]"
   ]
  },
  {
   "cell_type": "markdown",
   "metadata": {
    "collapsed": true
   },
   "source": [
    "# The uncertainty algorithm and the fractal dimension\n",
    "\n",
    "(From the John Bohn paper)\n",
    "\n",
    "In the uncertainty algorithm two trajectories are considered stable if two trajectories that only differ by a $\\delta$ in their initial conditions end up in the same basin. We can run a large number of ranom initial conditions differing by $\\delta$ and each time compute the fraction of unstable trajectories, denoted by $f(\\delta)$. We can then further fit the uncertainty exponent $\\alpha$ (see Fig. 6):\n",
    "\n",
    "$$ f(\\delta, E_{col} \\propto \\delta^{\\alpha(E_{col})}. $$\n",
    "\n"
   ]
  },
  {
   "cell_type": "code",
   "execution_count": null,
   "metadata": {
    "collapsed": true
   },
   "outputs": [],
   "source": [
    "def delta_collision(delta, T, theta):\n",
    "    ''' \n",
    "    Runs two colision simulations with perturbation delta and returns whether or not the two trajectories \n",
    "    end up in the same basin.\n",
    "    \n",
    "    Parameters\n",
    "    ----------\n",
    "    delta :  perturbation of initial parameter (in our case just theta)\n",
    "    \n",
    "    '''\n",
    "    \n",
    "    collision_1 = run_collision(T, theta)\n",
    "    colliison_2 = run_collision(T, theta+delta)\n",
    "    \n",
    "    basin_1 = collision_1[1]\n",
    "    basin_2 = colliison_2[1]\n",
    "    \n",
    "    if basin_1 == basin_2:\n",
    "        return true # stable trajectory under perturbation delta\n",
    "    else:\n",
    "        return false\n",
    "\n",
    "def run_delta_collisions(N, delta, T, theta_range):\n",
    "    ''' \n",
    "    Runs N sets of colision simulations that differ by perturbation delta and returns the fraction that are stable\n",
    "    \n",
    "    Parameters\n",
    "    ----------\n",
    "    delta :  perturbation of initial parameter (in our case just theta)\n",
    "    \n",
    "    '''\n",
    "    for i in range(N):\n",
    "        \n",
    "    "
   ]
  },
  {
   "cell_type": "code",
   "execution_count": null,
   "metadata": {
    "collapsed": true
   },
   "outputs": [],
   "source": []
  },
  {
   "cell_type": "code",
   "execution_count": null,
   "metadata": {
    "collapsed": true
   },
   "outputs": [],
   "source": []
  },
  {
   "cell_type": "code",
   "execution_count": null,
   "metadata": {
    "collapsed": true
   },
   "outputs": [],
   "source": []
  },
  {
   "cell_type": "code",
   "execution_count": null,
   "metadata": {
    "collapsed": true
   },
   "outputs": [],
   "source": []
  },
  {
   "cell_type": "code",
   "execution_count": null,
   "metadata": {
    "collapsed": true
   },
   "outputs": [],
   "source": []
  },
  {
   "cell_type": "code",
   "execution_count": null,
   "metadata": {
    "collapsed": true
   },
   "outputs": [],
   "source": []
  }
 ],
 "metadata": {
  "anaconda-cloud": {},
  "kernelspec": {
   "display_name": "Python [default]",
   "language": "python",
   "name": "python3"
  },
  "language_info": {
   "codemirror_mode": {
    "name": "ipython",
    "version": 3
   },
   "file_extension": ".py",
   "mimetype": "text/x-python",
   "name": "python",
   "nbconvert_exporter": "python",
   "pygments_lexer": "ipython3",
   "version": "3.5.2"
  }
 },
 "nbformat": 4,
 "nbformat_minor": 2
}
