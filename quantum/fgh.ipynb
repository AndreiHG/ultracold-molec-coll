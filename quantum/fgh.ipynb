{
 "cells": [
  {
   "cell_type": "code",
   "execution_count": 9,
   "metadata": {
    "collapsed": true
   },
   "outputs": [],
   "source": [
    "import numpy as np\n",
    "import matplotlib.pyplot as plt\n",
    "import scipy as sp\n",
    "from scipy import optimize\n",
    "\n",
    "%matplotlib inline"
   ]
  },
  {
   "cell_type": "code",
   "execution_count": 114,
   "metadata": {},
   "outputs": [],
   "source": [
    "def V_morse(x):\n",
    "    D = 0.1744 # 4.7457 eV\n",
    "    beta = 1.02764 # 1.94196e10 m-1\n",
    "    x_e = 1.40201 # 0.74191e-10 m\n",
    "\n",
    "    return D*(1-np.exp(-beta*(x-x_e)))**2\n",
    "\n",
    "def V_ho(x):\n",
    "    return 0.5*x**2\n",
    "\n",
    "def fgh(V, x_grid, m):\n",
    "    \n",
    "    N = x_grid.size\n",
    "    delta_x = x_grid[1] - x_grid[0]\n",
    "    xmax = x_grid[-1]\n",
    "\n",
    "    H = np.zeros((N,N))\n",
    "\n",
    "    T_k = np.zeros(N)\n",
    "    for n in range(0,N):\n",
    "        T_k[n] = 2/m * (np.pi*(n-(N-1)/2.0)/(xmax))**2\n",
    "    T_k = np.fft.fftshift(T_k)\n",
    "\n",
    "    for n in range(0,N):\n",
    "\n",
    "        phi_n = np.zeros(N)\n",
    "        phi_n[n] = 1\n",
    "\n",
    "        V_phi_n = np.zeros(N)\n",
    "        V_phi_n[n] = V(x_grid[n])\n",
    "\n",
    "        # fast fourier transform\n",
    "        F_phi_n = np.fft.fft(phi_n) # into k-space\n",
    "        TF_phi_n = np.multiply(T_k, F_phi_n)\n",
    "        T_phi_n = np.fft.ifft(TF_phi_n) # not sure if this is necessary\n",
    "\n",
    "        H[:,n] = T_phi_n + V_phi_n\n",
    "\n",
    "    # diagonalize\n",
    "    E, psi = np.linalg.eig(H)\n",
    "    E = np.real(E)\n",
    "\n",
    "    # sort energies in increasing order\n",
    "    ind = np.argsort(E)\n",
    "    E = E[ind]\n",
    "    psi = psi[:,ind]\n",
    "\n",
    "    print(E[0:20])\n",
    "    \n",
    "    plt.plot(x_grid,psi[:,5])\n"
   ]
  },
  {
   "cell_type": "code",
   "execution_count": 16,
   "metadata": {},
   "outputs": [
    {
     "name": "stderr",
     "output_type": "stream",
     "text": [
      "/usr/local/lib/python2.7/dist-packages/ipykernel_launcher.py:37: ComplexWarning: Casting complex values to real discards the imaginary part\n"
     ]
    },
    {
     "name": "stdout",
     "output_type": "stream",
     "text": [
      "[  0.20921676   0.37839991   0.46825468   0.97638314   1.07111552\n",
      "   1.97177228   2.05203504   3.36050926   3.4259374    5.14227426\n",
      "   5.19611604   7.31745776   7.36268821   9.88646002   9.92525524\n",
      "  12.84957378  12.88345776  16.2069969   16.23704168  19.95886152]\n"
     ]
    },
    {
     "data": {
      "image/png": "[encoded data removed]",
      "text/plain": [
       "<matplotlib.figure.Figure at 0x7fe6342a8750>"
      ]
     },
     "metadata": {},
     "output_type": "display_data"
    },
    {
     "name": "stdout",
     "output_type": "stream",
     "text": [
      "[ 0.00993532  0.02883393  0.04657987  0.06317313  0.07861371  0.09290161\n",
      "  0.10603683  0.11801937  0.12884923  0.13852642  0.14705092  0.15442275\n",
      "  0.16064189  0.16570836  0.16962215  0.17238327  0.17399917  0.17484764\n",
      "  0.17587548  0.17720675]\n"
     ]
    },
    {
     "data": {
      "image/png": "[encoded data removed]",
      "text/plain": [
       "<matplotlib.figure.Figure at 0x7fe60977a550>"
      ]
     },
     "metadata": {},
     "output_type": "display_data"
    }
   ],
   "source": [
    "x_grid = np.linspace(0,10,1000)\n",
    "\n",
    "#plt.plot(x_grid,V_morse(x_grid)/0.1744)\n",
    "#plt.show()\n",
    "fgh(V_morse,x_grid,1822/2.0)"
   ]
  },
  {
   "cell_type": "code",
   "execution_count": 115,
   "metadata": {
    "collapsed": true
   },
   "outputs": [],
   "source": [
    "\n",
    "def regrid(x_min, x_max, N, A, beta):\n",
    "    \n",
    "    x_mapping = lambda Q: x_min + Q - A * np.arctan(beta*Q)\n",
    "        \n",
    "    Q_max = sp.optimize.root(lambda Q: x_mapping(Q)-x_max,1.0).x\n",
    "    Q_min = 0\n",
    "    \n",
    "    Q = np.linspace(Q_min, Q_max, N)\n",
    "    #plt.plot(Q,x_mapping(Q))\n",
    "    \n",
    "    J = 1 - A * beta / (1 + (beta * Q)**2)\n",
    "    \n",
    "    return Q, J, x_mapping(Q)\n",
    "\n",
    "def fgh_scaled(V, x_grid, x_coord, J, m):\n",
    "    \n",
    "    J_inv = J**(-1)\n",
    "    \n",
    "    N = x_grid.size\n",
    "    delta_x = x_grid[1] - x_grid[0]\n",
    "    xmax = x_grid[-1] - x_grid[0]\n",
    "\n",
    "    H = np.zeros((N,N))\n",
    "\n",
    "    T_k = np.zeros(N)\n",
    "    for n in range(0,N):\n",
    "        T_k[n] = n-(N-1)/2.0 # np.sqrt(2/m * (np.pi*(n-(N-1)/2.0)/(xmax))**2)\n",
    "    T_k = np.fft.fftshift(T_k)\n",
    "\n",
    "    for n in range(0,N):\n",
    "\n",
    "        phi_n = np.zeros(N)\n",
    "        phi_n[n] = 1\n",
    "\n",
    "        V_phi_n = np.zeros(N)\n",
    "        V_phi_n[n] = V(x_coord[n])\n",
    "\n",
    "        # fast fourier transform\n",
    "        F_phi_n = np.fft.fft(phi_n) # into k-space     \n",
    "        \n",
    "        dphi_dq = np.multiply(J_inv, np.fft.ifft(np.multiply(T_k, F_phi_n)))\n",
    "        F_dphi_dq = np.fft.fft(dphi_dq)\n",
    "        dphi_dq2 = np.multiply(J_inv, np.fft.ifft(np.multiply(T_k, F_dphi_dq)))\n",
    "        T_phi_n = dphi_dq2 * 2/m * (np.pi/(xmax))**2\n",
    "\n",
    "        H[:,n] = T_phi_n + V_phi_n\n",
    "\n",
    "    # diagonalize\n",
    "    E, psi = np.linalg.eig(H)\n",
    "    E = np.real(E)\n",
    "\n",
    "    # sort energies in increasing order\n",
    "    ind = np.argsort(E)\n",
    "    E = E[ind]\n",
    "    psi = psi[:,ind]\n",
    "\n",
    "    print(E[0:20])\n",
    "    #plt.plot(E[0:20])\n",
    "    \n",
    "    plt.plot(x_coord,-psi[:,5])\n"
   ]
  },
  {
   "cell_type": "code",
   "execution_count": 117,
   "metadata": {},
   "outputs": [
    {
     "name": "stderr",
     "output_type": "stream",
     "text": [
      "/usr/local/lib/python2.7/dist-packages/ipykernel_launcher.py:47: ComplexWarning: Casting complex values to real discards the imaginary part\n"
     ]
    },
    {
     "name": "stdout",
     "output_type": "stream",
     "text": [
      "[ 0.0099899   0.02895615  0.04676084  0.06340394  0.07888545  0.09320536\n",
      "  0.10636366  0.11836034  0.12919537  0.13886874  0.14738041  0.15473034\n",
      "  0.16091845  0.16594463  0.16980869  0.17251019  0.17405927  0.17489706\n",
      "  0.17595374  0.1773103 ]\n"
     ]
    },
    {
     "name": "stderr",
     "output_type": "stream",
     "text": [
      "/usr/local/lib/python2.7/dist-packages/ipykernel_launcher.py:37: ComplexWarning: Casting complex values to real discards the imaginary part\n"
     ]
    },
    {
     "name": "stdout",
     "output_type": "stream",
     "text": [
      "[ 0.00997307  0.02893971  0.04674483  0.0633884   0.07887044  0.09319094\n",
      "  0.10634991  0.11834734  0.12918324  0.13885759  0.14737042  0.1547217\n",
      "  0.16091146  0.16593967  0.16980635  0.1725115   0.17406612  0.17490659\n",
      "  0.17596242  0.17731859]\n"
     ]
    },
    {
     "data": {
      "image/png": "[encoded data removed]",
      "text/plain": [
       "<matplotlib.figure.Figure at 0x7fcd97369490>"
      ]
     },
     "metadata": {},
     "output_type": "display_data"
    }
   ],
   "source": [
    "x_grid = np.linspace(0,10,1000)\n",
    "\n",
    "Q_grid, J, x_coord = regrid(0,10,1000,9.9,0.05)\n",
    "\n",
    "#fgh_scaled(V_morse,x_grid,x_grid,np.ones(x_grid.size),1822/2.0)\n",
    "fgh_scaled(V_morse,Q_grid,x_coord,J,1822/2.0)\n",
    "fgh(V_morse,x_grid,1822/2.0)"
   ]
  },
  {
   "cell_type": "code",
   "execution_count": 107,
   "metadata": {},
   "outputs": [
    {
     "data": {
      "text/plain": [
       "[<matplotlib.lines.Line2D at 0x7fcd96fb7850>]"
      ]
     },
     "execution_count": 107,
     "metadata": {},
     "output_type": "execute_result"
    },
    {
     "data": {
      "image/png": "[encoded data removed]",
      "text/plain": [
       "<matplotlib.figure.Figure at 0x7fcd97554cd0>"
      ]
     },
     "metadata": {},
     "output_type": "display_data"
    }
   ],
   "source": [
    "Q_grid, J, x_coord = regrid(0,10,1000,9.9,0.1) # A*beta < 1\n",
    "plt.plot(x_coord)"
   ]
  },
  {
   "cell_type": "code",
   "execution_count": 69,
   "metadata": {},
   "outputs": [
    {
     "data": {
      "text/plain": [
       "[<matplotlib.lines.Line2D at 0x7fcd9742df10>]"
      ]
     },
     "execution_count": 69,
     "metadata": {},
     "output_type": "execute_result"
    },
    {
     "data": {
      "image/png": "[encoded data removed]",
      "text/plain": [
       "<matplotlib.figure.Figure at 0x7fcd97579390>"
      ]
     },
     "metadata": {},
     "output_type": "display_data"
    }
   ],
   "source": [
    "plt.plot(x_grid,V_morse(x_grid))"
   ]
  },
  {
   "cell_type": "code",
   "execution_count": null,
   "metadata": {
    "collapsed": true
   },
   "outputs": [],
   "source": []
  }
 ],
 "metadata": {
  "kernelspec": {
   "display_name": "Python 2",
   "language": "python",
   "name": "python2"
  },
  "language_info": {
   "codemirror_mode": {
    "name": "ipython",
    "version": 2
   },
   "file_extension": ".py",
   "mimetype": "text/x-python",
   "name": "python",
   "nbconvert_exporter": "python",
   "pygments_lexer": "ipython2",
   "version": "2.7.6"
  }
 },
 "nbformat": 4,
 "nbformat_minor": 2
}
