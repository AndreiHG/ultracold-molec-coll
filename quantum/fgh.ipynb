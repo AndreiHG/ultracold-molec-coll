{
 "cells": [
  {
   "cell_type": "code",
   "execution_count": 17,
   "metadata": {
    "collapsed": true
   },
   "outputs": [],
   "source": [
    "import numpy as np\n",
    "import matplotlib.pyplot as plt\n",
    "import scipy as sp\n",
    "from scipy import optimize\n",
    "import constants as c\n",
    "\n",
    "%matplotlib inline"
   ]
  },
  {
   "cell_type": "code",
   "execution_count": 7,
   "metadata": {},
   "outputs": [],
   "source": [
    "def V_morse(x):\n",
    "    D = 0.1744 # 4.7457 eV\n",
    "    beta = 1.02764 # 1.94196e10 m-1\n",
    "    x_e = 1.40201 # 0.74191e-10 m\n",
    "\n",
    "    return D*(1-np.exp(-beta*(x-x_e)))**2\n",
    "\n",
    "def V_ho(x):\n",
    "    return 0.5*x**2\n",
    "\n",
    "def V_lj(x):\n",
    "    C6 = 1394\n",
    "    De = 334\n",
    "    C12 = C6**2/(4*De)\n",
    "    return C12/x**12 - C6/x**6\n",
    "    \n",
    "    \n",
    "def fgh(V, x_grid, m):\n",
    "    \n",
    "    N = x_grid.size\n",
    "    delta_x = x_grid[1] - x_grid[0]\n",
    "    xmax = x_grid[-1]\n",
    "\n",
    "    H = np.zeros((N,N))\n",
    "\n",
    "    T_k = np.zeros(N)\n",
    "    for n in range(0,N):\n",
    "        T_k[n] = 2/m * (np.pi*(n-(N-1)/2.0)/(xmax))**2\n",
    "    T_k = np.fft.fftshift(T_k)\n",
    "\n",
    "    for n in range(0,N):\n",
    "\n",
    "        phi_n = np.zeros(N)\n",
    "        phi_n[n] = 1\n",
    "\n",
    "        V_phi_n = np.zeros(N)\n",
    "        V_phi_n[n] = V(x_grid[n])\n",
    "\n",
    "        # fast fourier transform\n",
    "        F_phi_n = np.fft.fft(phi_n) # into k-space\n",
    "        TF_phi_n = np.multiply(T_k, F_phi_n)\n",
    "        T_phi_n = np.fft.ifft(TF_phi_n) # not sure if this is necessary\n",
    "\n",
    "        H[:,n] = T_phi_n + V_phi_n\n",
    "\n",
    "    # diagonalize\n",
    "    E, psi = np.linalg.eig(H)\n",
    "    E = np.real(E)\n",
    "\n",
    "    # sort energies in increasing order\n",
    "    ind = np.argsort(E)\n",
    "    E = E[ind]\n",
    "    psi = psi[:,ind]\n",
    "\n",
    "    print(E[0:20])\n",
    "    \n",
    "    plt.plot(x_grid,psi[:,5])\n"
   ]
  },
  {
   "cell_type": "code",
   "execution_count": 3,
   "metadata": {
    "collapsed": true
   },
   "outputs": [],
   "source": [
    "def regrid(x_min, x_max, N, A, beta):\n",
    "    \n",
    "    x_mapping = lambda Q: x_min + Q - A * np.arctan(beta*Q)\n",
    "        \n",
    "    Q_max = sp.optimize.root(lambda Q: x_mapping(Q)-x_max,1.0).x\n",
    "    Q_min = 0\n",
    "    \n",
    "    Q = np.linspace(Q_min, Q_max, N)\n",
    "    #plt.plot(Q,x_mapping(Q))\n",
    "    \n",
    "    J = 1 - A * beta / (1 + (beta * Q)**2)\n",
    "    \n",
    "    return Q, J, x_mapping(Q)\n",
    "\n",
    "def fgh_scaled(V, x_grid, x_coord, J, m):\n",
    "    \n",
    "    J_inv = J**(-1)\n",
    "    \n",
    "    N = x_grid.size\n",
    "    delta_x = x_grid[1] - x_grid[0]\n",
    "    xmax = x_grid[-1] - x_grid[0]\n",
    "\n",
    "    H = np.zeros((N,N))\n",
    "\n",
    "    T_k = np.zeros(N)\n",
    "    for n in range(0,N):\n",
    "        T_k[n] = n-(N-1)/2.0 # np.sqrt(2/m * (np.pi*(n-(N-1)/2.0)/(xmax))**2)\n",
    "    T_k = np.fft.fftshift(T_k)\n",
    "\n",
    "    for n in range(0,N):\n",
    "\n",
    "        phi_n = np.zeros(N)\n",
    "        phi_n[n] = 1\n",
    "\n",
    "        V_phi_n = np.zeros(N)\n",
    "        V_phi_n[n] = V(x_coord[n])\n",
    "\n",
    "        # fast fourier transform\n",
    "        F_phi_n = np.fft.fft(phi_n) # into k-space     \n",
    "        \n",
    "        dphi_dq = np.multiply(J_inv, np.fft.ifft(np.multiply(T_k, F_phi_n)))\n",
    "        F_dphi_dq = np.fft.fft(dphi_dq)\n",
    "        dphi_dq2 = np.multiply(J_inv, np.fft.ifft(np.multiply(T_k, F_dphi_dq)))\n",
    "        T_phi_n = dphi_dq2 * 2/m * (np.pi/(xmax))**2\n",
    "\n",
    "        H[:,n] = T_phi_n + V_phi_n\n",
    "\n",
    "    # diagonalize\n",
    "    E, psi = np.linalg.eig(H)\n",
    "    E = np.real(E)\n",
    "\n",
    "    # sort energies in increasing order\n",
    "    ind = np.argsort(E)\n",
    "    E = E[ind]\n",
    "    psi = psi[:,ind]\n",
    "\n",
    "    print(E[0:20])\n",
    "    #plt.plot(E[0:20])\n",
    "    \n",
    "    plt.plot(x_coord,-psi[:,5])\n"
   ]
  },
  {
   "cell_type": "code",
   "execution_count": 15,
   "metadata": {},
   "outputs": [
    {
     "name": "stderr",
     "output_type": "stream",
     "text": [
      "/usr/local/lib/python2.7/dist-packages/ipykernel_launcher.py:46: ComplexWarning: Casting complex values to real discards the imaginary part\n"
     ]
    },
    {
     "name": "stdout",
     "output_type": "stream",
     "text": [
      "[ 0.04784868  0.11287437  0.1782184   0.24372093  0.3093218   0.37499093\n",
      "  0.44071078  0.50647008  0.5722611   0.63807824  0.70391729  0.76977501\n",
      "  0.83564882  0.90153664  0.96743674  1.03334769  1.09926826  1.1651974\n",
      "  1.2311342   1.29707786]\n"
     ]
    },
    {
     "name": "stderr",
     "output_type": "stream",
     "text": [
      "/usr/local/lib/python2.7/dist-packages/ipykernel_launcher.py:44: ComplexWarning: Casting complex values to real discards the imaginary part\n"
     ]
    },
    {
     "name": "stdout",
     "output_type": "stream",
     "text": [
      "[ 0.04781022  0.11283291  0.17817489  0.24367583  0.3092754   0.37494343\n",
      "  0.44066233  0.50642081  0.57221109  0.63802757  0.70386603  0.76972322\n",
      "  0.83559654  0.90148392  0.96738361  1.03329418  1.09921441  1.16514323\n",
      "  1.23107974  1.29702313]\n"
     ]
    },
    {
     "data": {
      "image/png": "[encoded data removed]",
      "text/plain": [
       "<matplotlib.figure.Figure at 0x7fe0901ac350>"
      ]
     },
     "metadata": {},
     "output_type": "display_data"
    }
   ],
   "source": [
    "x_grid = np.linspace(0,3,1000)\n",
    "\n",
    "Q_grid, J, x_coord = regrid(0,3,1000,9.9,0.05)\n",
    "\n",
    "#fgh_scaled(V_morse,x_grid,x_grid,np.ones(x_grid.size),1822/2.0)\n",
    "fgh_scaled(V_ho,Q_grid,x_coord,J,1822/2.0)\n",
    "fgh(V_ho,x_grid,1822/2.0)"
   ]
  },
  {
   "cell_type": "code",
   "execution_count": 13,
   "metadata": {},
   "outputs": [
    {
     "data": {
      "text/plain": [
       "[<matplotlib.lines.Line2D at 0x7fe0900e7e10>]"
      ]
     },
     "execution_count": 13,
     "metadata": {},
     "output_type": "execute_result"
    },
    {
     "data": {
      "image/png": "[encoded data removed]",
      "text/plain": [
       "<matplotlib.figure.Figure at 0x7fe0901fd050>"
      ]
     },
     "metadata": {},
     "output_type": "display_data"
    }
   ],
   "source": [
    "x_grid = np.linspace(0.9,10,1000)\n",
    "plt.plot(x_grid,V_lj(x_grid))"
   ]
  },
  {
   "cell_type": "code",
   "execution_count": 50,
   "metadata": {
    "collapsed": true
   },
   "outputs": [],
   "source": [
    "def V_ho_SI(x,m,omega):\n",
    "    return 0.5*m*omega*x**2\n",
    "\n",
    "def fgh_scaled_SI(V, x_grid, x_coord, J, m):\n",
    "    \n",
    "    J_inv = J**(-1)\n",
    "    \n",
    "    N = x_grid.size\n",
    "    delta_x = x_grid[1] - x_grid[0]\n",
    "    xmax = x_grid[-1] - x_grid[0]\n",
    "\n",
    "    H = np.zeros((N,N))\n",
    "\n",
    "    T_k = np.zeros(N)\n",
    "    for n in range(0,N):\n",
    "        T_k[n] = n-(N-1)/2.0 # np.sqrt(2/m * (np.pi*(n-(N-1)/2.0)/(xmax))**2)\n",
    "    T_k = np.fft.fftshift(T_k)\n",
    "\n",
    "    for n in range(0,N):\n",
    "\n",
    "        phi_n = np.zeros(N)\n",
    "        phi_n[n] = 1\n",
    "\n",
    "        V_phi_n = np.zeros(N)\n",
    "        V_phi_n[n] = V(x_coord[n])\n",
    "\n",
    "        # fast fourier transform\n",
    "        F_phi_n = np.fft.fft(phi_n) # into k-space     \n",
    "        \n",
    "        dphi_dq = np.multiply(J_inv, np.fft.ifft(np.multiply(T_k, F_phi_n)))\n",
    "        F_dphi_dq = np.fft.fft(dphi_dq)\n",
    "        dphi_dq2 = np.multiply(J_inv, np.fft.ifft(np.multiply(T_k, F_dphi_dq)))\n",
    "        T_phi_n = dphi_dq2 * 2/m * (c.hbar*np.pi/(xmax))**2\n",
    "\n",
    "        H[:,n] = T_phi_n + V_phi_n\n",
    "\n",
    "    # diagonalize\n",
    "    E, psi = np.linalg.eig(H)\n",
    "    E = np.real(E)\n",
    "\n",
    "    # sort energies in increasing order\n",
    "    ind = np.argsort(E)\n",
    "    E = E[ind]\n",
    "    psi = psi[:,ind]\n",
    "\n",
    "    print(E[0:20])\n",
    "    #plt.plot(E[0:20])\n",
    "    \n",
    "    plt.plot(x_coord,-psi[:,0])\n",
    "    plt.plot(x_coord,-psi[:,1])\n",
    "    plt.plot(x_coord,-psi[:,2])\n",
    "\n"
   ]
  },
  {
   "cell_type": "code",
   "execution_count": 57,
   "metadata": {},
   "outputs": [
    {
     "name": "stderr",
     "output_type": "stream",
     "text": [
      "/usr/local/lib/python2.7/dist-packages/ipykernel_launcher.py:35: ComplexWarning: Casting complex values to real discards the imaginary part\n"
     ]
    },
    {
     "name": "stdout",
     "output_type": "stream",
     "text": [
      "[  1.48075093e-34   3.53887270e-34   5.61023047e-34   7.68823545e-34\n",
      "   9.77040021e-34   1.18554786e-33   1.39427431e-33   1.60317259e-33\n",
      "   1.81221052e-33   2.02136486e-33   2.23061817e-33   2.43995697e-33\n",
      "   2.64937061e-33   2.85885046e-33   3.06838944e-33   3.27798165e-33\n",
      "   3.48762212e-33   3.69730660e-33   3.90703143e-33   4.11679344e-33]\n"
     ]
    },
    {
     "data": {
      "image/png": "[encoded data removed]",
      "text/plain": [
       "<matplotlib.figure.Figure at 0x7fe0901ac350>"
      ]
     },
     "metadata": {},
     "output_type": "display_data"
    }
   ],
   "source": [
    "Q_grid, J, x_coord = regrid(0,100*np.sqrt(c.hbar),1000,9.9,0.1)\n",
    "x_grid = np.linspace(0,100*np.sqrt(c.hbar),1000)\n",
    "\n",
    "fgh_scaled_SI(lambda x:V_ho_SI(x,1.0,1.0),x_grid,x_grid,np.ones(x_grid.size),1.0)\n",
    "#fgh_scaled_SI(lambda x:V_ho_SI(x,2.0,1.0/c.hbar),x_grid,2.0)"
   ]
  },
  {
   "cell_type": "code",
   "execution_count": 24,
   "metadata": {},
   "outputs": [
    {
     "data": {
      "text/plain": [
       "1.0545716279999998e-34"
      ]
     },
     "execution_count": 24,
     "metadata": {},
     "output_type": "execute_result"
    }
   ],
   "source": [
    "c.hbar"
   ]
  },
  {
   "cell_type": "code",
   "execution_count": null,
   "metadata": {
    "collapsed": true
   },
   "outputs": [],
   "source": []
  }
 ],
 "metadata": {
  "kernelspec": {
   "display_name": "Python 2",
   "language": "python",
   "name": "python2"
  },
  "language_info": {
   "codemirror_mode": {
    "name": "ipython",
    "version": 2
   },
   "file_extension": ".py",
   "mimetype": "text/x-python",
   "name": "python",
   "nbconvert_exporter": "python",
   "pygments_lexer": "ipython2",
   "version": "2.7.6"
  }
 },
 "nbformat": 4,
 "nbformat_minor": 2
}
