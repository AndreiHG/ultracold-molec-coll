{
 "cells": [
  {
   "cell_type": "code",
   "execution_count": 14,
   "metadata": {
    "collapsed": true
   },
   "outputs": [],
   "source": [
    "import numpy as np\n",
    "import matplotlib.pyplot as plt\n",
    "\n",
    "%matplotlib inline"
   ]
  },
  {
   "cell_type": "code",
   "execution_count": 15,
   "metadata": {
    "collapsed": true
   },
   "outputs": [],
   "source": [
    "def V_morse(x):\n",
    "    D = 0.1744 # 4.7457 eV\n",
    "    beta = 1.02764 # 1.94196e10 m-1\n",
    "    x_e = 1.40201 # 0.74191e-10 m\n",
    "\n",
    "    return D*(1-np.exp(-beta*(x-x_e)))**2\n",
    "\n",
    "def V_ho(x):\n",
    "    return 0.5*x**2\n",
    "\n",
    "def fgh(V, x_grid, m):\n",
    "    \n",
    "    N = x_grid.size\n",
    "    delta_x = x_grid[1] - x_grid[0]\n",
    "    xmax = x_grid[-1]\n",
    "\n",
    "    H = np.zeros((N,N))\n",
    "\n",
    "    T_k = np.zeros(N)\n",
    "    for n in range(0,N):\n",
    "        T_k[n] = 2/m * (np.pi*(n-(N-1)/2.0)/(xmax))**2\n",
    "    T_k = np.fft.fftshift(T_k)\n",
    "\n",
    "    for n in range(0,N):\n",
    "\n",
    "        phi_n = np.zeros(N)\n",
    "        phi_n[n] = 1\n",
    "\n",
    "        V_phi_n = np.zeros(N)\n",
    "        V_phi_n[n] = V(x_grid[n])\n",
    "\n",
    "        # fast fourier transform\n",
    "        F_phi_n = np.fft.fft(phi_n) # into k-space\n",
    "        TF_phi_n = np.multiply(T_k, F_phi_n)\n",
    "        T_phi_n = np.fft.ifft(TF_phi_n) # not sure if this is necessary\n",
    "\n",
    "        H[:,n] = T_phi_n + V_phi_n\n",
    "\n",
    "    # diagonalize\n",
    "    E, psi = np.linalg.eig(H)\n",
    "    E = np.real(E)\n",
    "\n",
    "    # sort energies in increasing order\n",
    "    ind = np.argsort(E)\n",
    "    E = E[ind]\n",
    "    psi = psi[:,ind]\n",
    "\n",
    "    print(E[0:20])\n",
    "    plt.plot(E[0:20])\n",
    "    \n",
    "    plt.plot(x_grid,psi[:,5])\n",
    "    plt.show()\n"
   ]
  },
  {
   "cell_type": "code",
   "execution_count": 16,
   "metadata": {},
   "outputs": [
    {
     "name": "stderr",
     "output_type": "stream",
     "text": [
      "/usr/local/lib/python2.7/dist-packages/ipykernel_launcher.py:37: ComplexWarning: Casting complex values to real discards the imaginary part\n"
     ]
    },
    {
     "name": "stdout",
     "output_type": "stream",
     "text": [
      "[  0.20921676   0.37839991   0.46825468   0.97638314   1.07111552\n",
      "   1.97177228   2.05203504   3.36050926   3.4259374    5.14227426\n",
      "   5.19611604   7.31745776   7.36268821   9.88646002   9.92525524\n",
      "  12.84957378  12.88345776  16.2069969   16.23704168  19.95886152]\n"
     ]
    },
    {
     "data": {
      "image/png": "[encoded data removed]",
      "text/plain": [
       "<matplotlib.figure.Figure at 0x7fe6342a8750>"
      ]
     },
     "metadata": {},
     "output_type": "display_data"
    },
    {
     "name": "stdout",
     "output_type": "stream",
     "text": [
      "[ 0.00993532  0.02883393  0.04657987  0.06317313  0.07861371  0.09290161\n",
      "  0.10603683  0.11801937  0.12884923  0.13852642  0.14705092  0.15442275\n",
      "  0.16064189  0.16570836  0.16962215  0.17238327  0.17399917  0.17484764\n",
      "  0.17587548  0.17720675]\n"
     ]
    },
    {
     "data": {
      "image/png": "[encoded data removed]",
      "text/plain": [
       "<matplotlib.figure.Figure at 0x7fe60977a550>"
      ]
     },
     "metadata": {},
     "output_type": "display_data"
    }
   ],
   "source": [
    "x_grid = np.linspace(0,10,1000)\n",
    "\n",
    "#plt.plot(x_grid,V_morse(x_grid)/0.1744)\n",
    "#plt.show()\n",
    "fgh(V_morse,x_grid,1)\n",
    "fgh(V_morse,x_grid,1836/2.0)"
   ]
  },
  {
   "cell_type": "code",
   "execution_count": null,
   "metadata": {
    "collapsed": true
   },
   "outputs": [],
   "source": []
  }
 ],
 "metadata": {
  "kernelspec": {
   "display_name": "Python 2",
   "language": "python",
   "name": "python2"
  },
  "language_info": {
   "codemirror_mode": {
    "name": "ipython",
    "version": 2
   },
   "file_extension": ".py",
   "mimetype": "text/x-python",
   "name": "python",
   "nbconvert_exporter": "python",
   "pygments_lexer": "ipython2",
   "version": "2.7.6"
  }
 },
 "nbformat": 4,
 "nbformat_minor": 2
}
