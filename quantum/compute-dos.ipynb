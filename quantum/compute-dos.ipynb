{
 "cells": [
  {
   "cell_type": "code",
   "execution_count": 1,
   "metadata": {
    "collapsed": true
   },
   "outputs": [],
   "source": [
    "import numpy as np\n",
    "import matplotlib.pyplot as plt\n",
    "import scipy as sp\n",
    "from scipy import optimize\n",
    "\n",
    "import constants as c\n",
    "import fgh\n",
    "\n",
    "%matplotlib inline"
   ]
  },
  {
   "cell_type": "markdown",
   "metadata": {},
   "source": [
    "find DOS"
   ]
  },
  {
   "cell_type": "code",
   "execution_count": null,
   "metadata": {
    "collapsed": true
   },
   "outputs": [],
   "source": []
  },
  {
   "cell_type": "code",
   "execution_count": 119,
   "metadata": {},
   "outputs": [],
   "source": [
    "atom_ind = 0\n",
    "atoms = ('li','k','cs')\n",
    "n_maxs = (34,98,208)\n",
    "L_maxs = (57,162,342)\n",
    "\n",
    "atom = atoms[atom_ind]\n",
    "n_max = n_maxs[atom_ind]\n",
    "L_max = L_maxs[atom_ind]\n",
    "dimer = atom+'+'+atom\n",
    "collision = atom+'2+'+atom"
   ]
  },
  {
   "cell_type": "code",
   "execution_count": 120,
   "metadata": {},
   "outputs": [],
   "source": [
    "# only s-wave collisions\n",
    "E_rovib_gs = np.loadtxt('dos/{0}/{0}+{0}_n0.txt'.format(atom))[0] * 3.2e5\n",
    "E_res_chn = np.array([])\n",
    "for i in range(0,np.min([n_max,L_max])):\n",
    "    fname_dimer = 'dos/{0}/{0}+{0}_n{1}.txt'.format(atom,i)\n",
    "    E_dimer = np.loadtxt(fname_dimer) * 3.2e5\n",
    "    fname_collision = 'dos/{0}/{0}2+{0}_L{1}.txt'.format(atom,i)\n",
    "    E_collision = np.loadtxt(fname_collision) * 3.2e5\n",
    "    for j in range(0,E_dimer.size):\n",
    "        if E_dimer.size > 1:\n",
    "            E_res_chn = np.append(E_res_chn, E_collision+(E_dimer[j]-E_rovib_gs))\n",
    "        else:\n",
    "            E_res_chn = np.append(E_res_chn, E_collision+(E_dimer-E_rovib_gs))\n",
    "E_res_chn = np.sort(E_res_chn)   "
   ]
  },
  {
   "cell_type": "code",
   "execution_count": 121,
   "metadata": {},
   "outputs": [
    {
     "name": "stdout",
     "output_type": "stream",
     "text": [
      "-876.975856484\n"
     ]
    }
   ],
   "source": [
    "print(E_res_chn[0])"
   ]
  },
  {
   "cell_type": "code",
   "execution_count": 123,
   "metadata": {},
   "outputs": [
    {
     "name": "stdout",
     "output_type": "stream",
     "text": [
      "-876.975856484\n"
     ]
    }
   ],
   "source": [
    "print(E_res_chn[0])"
   ]
  },
  {
   "cell_type": "code",
   "execution_count": 115,
   "metadata": {},
   "outputs": [
    {
     "name": "stdout",
     "output_type": "stream",
     "text": [
      "0.494119317648\n",
      "0.00202380268143\n"
     ]
    },
    {
     "data": {
      "image/png": "[encoded data removed]",
      "text/plain": [
       "<matplotlib.figure.Figure at 0x7fd1d4209510>"
      ]
     },
     "metadata": {},
     "output_type": "display_data"
    }
   ],
   "source": [
    "def find_E0_ind(E):\n",
    "    # assumes sorted E\n",
    "    ind = np.where(E>0)\n",
    "    return np.min(ind)\n",
    "\n",
    "E_res_chn = np.sort(E_res_chn)\n",
    "d = np.zeros(E_res_chn.size-1)\n",
    "for i in range(0,d.size-1):\n",
    "    d[i] = E_res_chn[i+1]-E_res_chn[i]\n",
    "plt.plot(E_res_chn[0:-1],d)\n",
    "E0_ind = find_E0_ind(E_res_chn)\n",
    "print(np.mean(d[(E0_ind-10):(E0_ind+10)]))\n",
    "print(1.0/np.mean(d[(E0_ind-10):(E0_ind+10)])/1000.0)"
   ]
  },
  {
   "cell_type": "code",
   "execution_count": 122,
   "metadata": {
    "collapsed": true
   },
   "outputs": [],
   "source": [
    "\n",
    "E_res_chn = np.array([])\n",
    "lb = -10000\n",
    "ub = 10000\n",
    "for n in range(0,n_max):\n",
    "    fname_dimer = 'dos/{0}/{0}+{0}_n{1}.txt'.format(atom,n)\n",
    "    E_dimer = np.loadtxt(fname_dimer) * 3.2e5\n",
    "    for L in range(0,L_max):\n",
    "        fname_collision = 'dos/{0}/{0}2+{0}_L{1}.txt'.format(atom,L)\n",
    "        E_collision = np.loadtxt(fname_collision) * 3.2e5\n",
    "        for k in range(0,E_dimer.size):\n",
    "            if E_dimer.size > 1:\n",
    "                E_temp = E_collision+(E_dimer[k]-E_rovib_gs)\n",
    "            else:\n",
    "                E_temp = E_collision+(E_dimer-E_rovib_gs)\n",
    "            ind = np.where(np.logical_and(E_temp>lb,E_temp<ub))\n",
    "            if E_temp.size > 1:\n",
    "                E_res_chn = np.append(E_res_chn, E_temp[ind[0]])\n",
    "            else:\n",
    "                E_res_chn = np.append(E_res_chn, E_temp)               \n",
    "E_res_chn = np.sort(E_res_chn)"
   ]
  },
  {
   "cell_type": "code",
   "execution_count": 44,
   "metadata": {},
   "outputs": [
    {
     "name": "stdout",
     "output_type": "stream",
     "text": [
      "4\n"
     ]
    }
   ],
   "source": [
    "# corroborate numbers by counting number of states in range\n",
    "\n",
    "rovib_gnd_dos = np.where(np.logical_and(E_res_chn < 500e-3,E_res_chn>-500e-3))\n",
    "print(rovib_gnd_dos[0].size)"
   ]
  },
  {
   "cell_type": "code",
   "execution_count": 45,
   "metadata": {},
   "outputs": [
    {
     "name": "stdout",
     "output_type": "stream",
     "text": [
      "-409.253384806\n"
     ]
    }
   ],
   "source": [
    "# only s-wave collisions\n",
    "E_rovib_gs = np.loadtxt('dos/{0}/{0}+{0}_n0.txt'.format(atom))[0] * 3.2e5\n",
    "E_res_chn = np.array([])\n",
    "for i in range(0,np.min([n_max,L_max])):\n",
    "    fname_dimer = 'dos/{0}/{0}+{0}_n{1}.txt'.format(atom,i)\n",
    "    E_dimer = np.loadtxt(fname_dimer) * 3.2e5\n",
    "    fname_collision = 'dos/{0}/{0}2+{0}_L{1}.txt'.format(atom,i)\n",
    "    E_collision = np.loadtxt(fname_collision) * 3.2e5\n",
    "    for j in range(0,E_dimer.size):\n",
    "        if E_dimer.size > 1:\n",
    "            E_res_chn = np.append(E_res_chn, E_collision+(E_dimer[j]-E_rovib_gs))\n",
    "        else:\n",
    "            E_res_chn = np.append(E_res_chn, E_collision+(E_dimer-E_rovib_gs))\n",
    "E_res_chn = np.sort(E_res_chn)     "
   ]
  },
  {
   "cell_type": "code",
   "execution_count": 66,
   "metadata": {},
   "outputs": [
    {
     "name": "stdout",
     "output_type": "stream",
     "text": [
      "-710.664501023\n"
     ]
    }
   ],
   "source": [
    "print(E_res_chn[0])"
   ]
  },
  {
   "cell_type": "code",
   "execution_count": 85,
   "metadata": {},
   "outputs": [],
   "source": []
  },
  {
   "cell_type": "code",
   "execution_count": 79,
   "metadata": {},
   "outputs": [
    {
     "name": "stdout",
     "output_type": "stream",
     "text": [
      "10037\n"
     ]
    }
   ],
   "source": [
    "# convert energy to K\n",
    "rovib_gnd_dos = np.where(np.logical_and(E_res_chn < 50e-3,E_res_chn>-50e-3))\n",
    "print(rovib_gnd_dos[0].size)"
   ]
  },
  {
   "cell_type": "code",
   "execution_count": 69,
   "metadata": {},
   "outputs": [
    {
     "name": "stdout",
     "output_type": "stream",
     "text": [
      "21970\n"
     ]
    }
   ],
   "source": [
    "print(E_res_chn.size)"
   ]
  },
  {
   "cell_type": "code",
   "execution_count": 107,
   "metadata": {
    "scrolled": true
   },
   "outputs": [
    {
     "data": {
      "text/plain": [
       "[<matplotlib.lines.Line2D at 0x7f99adec11d0>]"
      ]
     },
     "execution_count": 107,
     "metadata": {},
     "output_type": "execute_result"
    },
    {
     "data": {
      "image/png": "[encoded data removed]",
      "text/plain": [
       "<matplotlib.figure.Figure at 0x7f99ba2d7a90>"
      ]
     },
     "metadata": {},
     "output_type": "display_data"
    }
   ],
   "source": [
    "E_res_chn = np.sort(E_res_chn)\n",
    "d = np.zeros(E_res_chn.size)\n",
    "for i in range(0,d.size-1):\n",
    "    d[i] = E_res_chn[i+1]-E_res_chn[i]\n",
    "d[-1] = d[-2]\n",
    "plt.plot(E_res_chn,d)\n"
   ]
  },
  {
   "cell_type": "code",
   "execution_count": 108,
   "metadata": {},
   "outputs": [
    {
     "data": {
      "text/plain": [
       "0.086127179881263061"
      ]
     },
     "execution_count": 108,
     "metadata": {},
     "output_type": "execute_result"
    }
   ],
   "source": [
    "np.mean(d[2770:2786])"
   ]
  },
  {
   "cell_type": "code",
   "execution_count": 85,
   "metadata": {},
   "outputs": [
    {
     "data": {
      "text/plain": [
       "[<matplotlib.lines.Line2D at 0x7f99ae402450>]"
      ]
     },
     "execution_count": 85,
     "metadata": {},
     "output_type": "execute_result"
    },
    {
     "data": {
      "image/png": "[encoded data removed]",
      "text/plain": [
       "<matplotlib.figure.Figure at 0x7f99ae775350>"
      ]
     },
     "metadata": {},
     "output_type": "display_data"
    }
   ],
   "source": [
    "plt.plot(E_res_chn)"
   ]
  },
  {
   "cell_type": "code",
   "execution_count": 86,
   "metadata": {
    "collapsed": true
   },
   "outputs": [],
   "source": [
    "def find_E0_ind(E):\n",
    "    # assumes sorted E\n",
    "    ind = np.where(E>0)\n",
    "    return np.min(ind)"
   ]
  },
  {
   "cell_type": "code",
   "execution_count": 106,
   "metadata": {},
   "outputs": [
    {
     "data": {
      "text/plain": [
       "2778"
      ]
     },
     "execution_count": 106,
     "metadata": {},
     "output_type": "execute_result"
    }
   ],
   "source": [
    "find_E0_ind(E_res_chn)"
   ]
  },
  {
   "cell_type": "code",
   "execution_count": 68,
   "metadata": {},
   "outputs": [
    {
     "name": "stdout",
     "output_type": "stream",
     "text": [
      "1.15398829548e-07\n",
      "1.73194357255e-07\n"
     ]
    },
    {
     "data": {
      "image/png": "[encoded data removed]",
      "text/plain": [
       "<matplotlib.figure.Figure at 0x7f99aec9ddd0>"
      ]
     },
     "metadata": {},
     "output_type": "display_data"
    }
   ],
   "source": [
    "# check vibrational and rotational splitting\n",
    "E = np.zeros(30)\n",
    "for n in range(0,30):\n",
    "    E[n] = np.loadtxt('dos/{0}/{0}+{0}_n{1}.txt'.format(atom,n))[0]\n",
    "plt.plot(E)\n",
    "\n",
    "f = lambda n,b,c: b*n*(n+1)+c\n",
    "s = sp.optimize.curve_fit(f,np.arange(0,30),E)\n",
    "plt.plot(f(np.arange(0,30),s[0][0],s[0][1]))\n",
    "print(s[0][0])\n",
    "\n",
    "m = 39.0983 / 5.485e-4 / 2.0\n",
    "Re = 9\n",
    "th = 1.0 / (2*m*Re**2)\n",
    "print(th)"
   ]
  },
  {
   "cell_type": "code",
   "execution_count": null,
   "metadata": {
    "collapsed": true
   },
   "outputs": [],
   "source": [
    "E_res_chn = np.array([])\n",
    "lb = -1\n",
    "ub = 1\n",
    "for n in range(0,n_max):\n",
    "    fname_dimer = 'dos/{0}/{0}+{0}_n{1}.txt'.format(atom,n)\n",
    "    E_dimer = np.loadtxt(fname_dimer) * 3.2e5\n",
    "    for L in range(0,L_max):\n",
    "        fname_collision = 'dos/{0}/{0}2+{0}_L{1}.txt'.format(atom,L)\n",
    "        E_collision = np.loadtxt(fname_coll) * 3.2e5\n",
    "        for k in range(0,E_dimer.size):\n",
    "            if E_dimer.size > 1:\n",
    "                E_temp = E_collision+(E_dimer[k]-E_rovib_gs)\n",
    "            else:\n",
    "                E_temp = E_collision+(E_dimer-E_rovib_gs)\n",
    "            ind = np.where(np.logical_and(E_temp>lb,E_temp<ub))\n",
    "            E_res_chn = np.append(E_res_chn, E_temp[ind[0]])"
   ]
  }
 ],
 "metadata": {
  "kernelspec": {
   "display_name": "Python 2",
   "language": "python",
   "name": "python2"
  },
  "language_info": {
   "codemirror_mode": {
    "name": "ipython",
    "version": 2
   },
   "file_extension": ".py",
   "mimetype": "text/x-python",
   "name": "python",
   "nbconvert_exporter": "python",
   "pygments_lexer": "ipython2",
   "version": "2.7.6"
  }
 },
 "nbformat": 4,
 "nbformat_minor": 2
}
