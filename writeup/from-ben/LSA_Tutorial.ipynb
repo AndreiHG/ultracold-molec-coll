{
 "cells": [
  {
   "cell_type": "code",
   "execution_count": 2,
   "metadata": {
    "collapsed": true
   },
   "outputs": [],
   "source": [
    "import numpy as np\n",
    "import scipy.linalg as spl\n",
    "import matplotlib.pyplot as plt\n",
    "%matplotlib inline"
   ]
  },
  {
   "cell_type": "code",
   "execution_count": 3,
   "metadata": {
    "collapsed": false
   },
   "outputs": [],
   "source": [
    "# book titles\n",
    "titles = [ \"The Neatest Little Guide to Stock Market Investing\", \n",
    "\"Investing For Dummies, 4th Edition\", \n",
    "\"The Little Book of Common Sense Investing: The Only Way to Guarantee Your Fair Share of Stock Market Returns\", \n",
    "\"The Little Book of Value Investing\", \n",
    "\"Value Investing: From Graham to Buffett and Beyond\", \n",
    "\"Rich Dad's Guide to Investing: What the Rich Invest in, That the Poor and the Middle Class Do Not!\", \n",
    "\"Investing in Real Estate, 5th Edition\", \n",
    "\"Stock Investing For Dummies\", \n",
    "\"Rich Dad's Advisors: The ABC's of Real Estate Investing: The Secrets of Finding Hidden Profits Most Investors Miss\" \n",
    "]\n",
    "# words to be excluded\n",
    "stopwords = [\"and\",\"edition\",\"for\",\"in\",\"little\",\"of\",\"the\",\"to\"] \n",
    "# characters to be excluded\n",
    "ignorechars = \"\"\",:'!\"\"\""
   ]
  },
  {
   "cell_type": "code",
   "execution_count": 4,
   "metadata": {
    "collapsed": false
   },
   "outputs": [],
   "source": [
    "class LSA(object):\n",
    "    def __init__(self, stopwords, ignorechars):\n",
    "        # load in stop words/ ignored chars, initialized a dictionary and document counter\n",
    "        self.stopwords = stopwords \n",
    "        self.ignorechars = ignorechars \n",
    "        self.wdict = {} \n",
    "        self.dcount = 0\n",
    "        \n",
    "    def parse(self, doc):\n",
    "        # split title into individual words\n",
    "        words = doc.split()\n",
    "        for w in words:\n",
    "            # removed ignored characters and lowercase everything\n",
    "            to_remove = w.maketrans(\"\",\"\",ignorechars)\n",
    "            w = w.lower().translate(to_remove) \n",
    "            # skip to next word if this is a stop-word\n",
    "            if w in self.stopwords: continue\n",
    "            # if word is already in dict, add this document to its counter\n",
    "            elif w in self.wdict:\n",
    "                self.wdict[w].append(self.dcount)\n",
    "            # if the word is new, add it to the dictionary\n",
    "            else:\n",
    "                self.wdict[w] = [self.dcount]\n",
    "        # iterate to get ready for next document\n",
    "        self.dcount += 1\n",
    "                \n",
    "    def build(self):\n",
    "        # find words that appear in more than one title\n",
    "        self.keys = [k for k in self.wdict.keys() if len(self.wdict[k]) > 1] \n",
    "        # sort the words\n",
    "        self.keys.sort() \n",
    "        # initialize and then fill array of word-document pairs\n",
    "        self.A = np.zeros([len(self.keys), self.dcount]) \n",
    "        for i, k in enumerate(self.keys):\n",
    "            for d in self.wdict[k]:\n",
    "                self.A[i,d] += 1\n",
    "     \n",
    "    def TFIDF(self):\n",
    "        # term frequency - inverse document frequency normalization\n",
    "        WordsPerDoc = np.sum(self.A, axis=0)\n",
    "        DocsPerWord = np.sum(np.asarray(self.A > 0, 'i'), axis=1)\n",
    "        rows, cols = self.A.shape\n",
    "        for i in range(rows):\n",
    "            for j in range(cols):\n",
    "                self.A[i,j] = (self.A[i,j] / WordsPerDoc[j]) * np.log(float(cols) / DocsPerWord[i])\n",
    "                \n",
    "    def calc(self):\n",
    "        # calculate the SVD\n",
    "        self.U, self.S, self.Vt = spl.svd(self.A)\n",
    "        return self.U, self.S, self.Vt\n",
    "\n",
    "    def printA(self):\n",
    "        # print out word-document the matrix\n",
    "        print(self.A)\n",
    "        \n",
    "    def getA(self):\n",
    "        # assign the word-document matrix\n",
    "        return self.A"
   ]
  },
  {
   "cell_type": "code",
   "execution_count": 5,
   "metadata": {
    "collapsed": false
   },
   "outputs": [
    {
     "name": "stdout",
     "output_type": "stream",
     "text": [
      "[[ 0.  0.  1.  1.  0.  0.  0.  0.  0.]\n",
      " [ 0.  0.  0.  0.  0.  1.  0.  0.  1.]\n",
      " [ 0.  1.  0.  0.  0.  0.  0.  1.  0.]\n",
      " [ 0.  0.  0.  0.  0.  0.  1.  0.  1.]\n",
      " [ 1.  0.  0.  0.  0.  1.  0.  0.  0.]\n",
      " [ 1.  1.  1.  1.  1.  1.  1.  1.  1.]\n",
      " [ 1.  0.  1.  0.  0.  0.  0.  0.  0.]\n",
      " [ 0.  0.  0.  0.  0.  0.  1.  0.  1.]\n",
      " [ 0.  0.  0.  0.  0.  2.  0.  0.  1.]\n",
      " [ 1.  0.  1.  0.  0.  0.  0.  1.  0.]\n",
      " [ 0.  0.  0.  1.  1.  0.  0.  0.  0.]]\n"
     ]
    }
   ],
   "source": [
    "mylsa = LSA(stopwords, ignorechars) \n",
    "for t in titles:\n",
    "    mylsa.parse(t)\n",
    "    \n",
    "mylsa.build() \n",
    "mylsa.printA()"
   ]
  },
  {
   "cell_type": "code",
   "execution_count": 6,
   "metadata": {
    "collapsed": false
   },
   "outputs": [],
   "source": [
    "# compute SVD\n",
    "U,S,VT = mylsa.calc()\n",
    "# U = coordinates of each word in 'concept space'\n",
    "# VT = coordinates of each title in 'concept space'\n",
    "# S = number of 'concepts' that need to be included\n",
    "\n",
    "# Note that the 1st dimension should be ignored -- \n",
    "# For documents, the first dimension correlates with the length of the document,\n",
    "# and for words, it correlates with the number of times that word has been used in all documents."
   ]
  },
  {
   "cell_type": "code",
   "execution_count": 19,
   "metadata": {
    "collapsed": false
   },
   "outputs": [
    {
     "name": "stdout",
     "output_type": "stream",
     "text": [
      "U= [[ 0.15283556 -0.26603445  0.04450319]\n",
      " [ 0.23746367  0.37826282 -0.08595889]\n",
      " [ 0.13026538 -0.17428415  0.06901432]\n",
      " [ 0.18440432  0.1939483   0.44568964]\n",
      " [ 0.2161232   0.08727248 -0.46011902]\n",
      " [ 0.74009654 -0.21114703  0.21075317]\n",
      " [ 0.17687585 -0.29791161 -0.28320277]\n",
      " [ 0.18440432  0.1939483   0.44568964]\n",
      " [ 0.3630785   0.58854128 -0.34119818]\n",
      " [ 0.2501936  -0.41557716 -0.28435272]\n",
      " [ 0.12293617 -0.14317803  0.23449128]]\n",
      "S= [[ 3.90941804  0.          0.        ]\n",
      " [ 0.          2.60911881  0.        ]\n",
      " [ 0.          0.          1.99682784]]\n",
      "VT= [[ 0.35383506  0.22263209  0.33764656  0.25985153  0.22075733  0.49108087\n",
      "   0.28364968  0.28662975  0.43726389]\n",
      " [-0.32093722 -0.14772466 -0.45634958 -0.23776591 -0.13580258  0.54864149\n",
      "   0.06774301 -0.3070034   0.43829115]\n",
      " [-0.40910955  0.14010597 -0.15639762  0.24526283  0.22297589 -0.50966892\n",
      "   0.55194165 -0.00229626  0.33802383]]\n"
     ]
    }
   ],
   "source": [
    "print(\"U=\",-U[:,0:3])\n",
    "print(\"S=\",np.diag(S[0:3]))\n",
    "print(\"VT=\",-VT[0:3,:])"
   ]
  },
  {
   "cell_type": "code",
   "execution_count": 20,
   "metadata": {
    "collapsed": false
   },
   "outputs": [
    {
     "data": {
      "text/plain": [
       "<matplotlib.colorbar.Colorbar at 0x10c24c940>"
      ]
     },
     "execution_count": 20,
     "metadata": {},
     "output_type": "execute_result"
    },
    {
     "data": {
      "image/png": "[encoded data removed]",
      "text/plain": [
       "<matplotlib.figure.Figure at 0x10bc6ccc0>"
      ]
     },
     "metadata": {},
     "output_type": "display_data"
    }
   ],
   "source": [
    "wlist = mylsa.keys\n",
    "Tlist = [\"T1\",\"T2\",\"T3\",\"T4\",\"T5\",\"T6\",\"T7\",\"T8\",\"T9\"]\n",
    "Dlist = [\"D1\",\"D2\",\"D3\"]\n",
    "\n",
    "\n",
    "plt.imshow(-VT[0:3,:],cmap='bwr')\n",
    "plt.xticks(np.linspace(0,8,9),Tlist)\n",
    "plt.yticks(np.linspace(0,2,3),Dlist)\n",
    "plt.xlabel('Titles')\n",
    "plt.ylabel('Dimension')\n",
    "plt.clim(-0.4,0.4)\n",
    "plt.colorbar()"
   ]
  },
  {
   "cell_type": "code",
   "execution_count": 24,
   "metadata": {
    "collapsed": false
   },
   "outputs": [
    {
     "data": {
      "image/png": "[encoded data removed]",
      "text/plain": [
       "<matplotlib.figure.Figure at 0x10c4ac390>"
      ]
     },
     "metadata": {},
     "output_type": "display_data"
    }
   ],
   "source": [
    "plt.plot(-VT[1,:],-VT[2,:],'bo')\n",
    "for label, x, y in zip(Tlist,-VT[1,:],-VT[2,:]):\n",
    "    plt.annotate(label,xy=(x+.01,y+.01),color='blue')\n",
    "plt.plot(-U[:,1],-U[:,2],'ro')\n",
    "for label, x, y in zip(wlist,-U[:,1],-U[:,2]):\n",
    "    plt.annotate(label,xy=(x+.01,y+.01),color='red')"
   ]
  },
  {
   "cell_type": "code",
   "execution_count": null,
   "metadata": {
    "collapsed": true
   },
   "outputs": [],
   "source": []
  }
 ],
 "metadata": {
  "kernelspec": {
   "display_name": "Python 3",
   "language": "python",
   "name": "python3"
  },
  "language_info": {
   "codemirror_mode": {
    "name": "ipython",
    "version": 3
   },
   "file_extension": ".py",
   "mimetype": "text/x-python",
   "name": "python",
   "nbconvert_exporter": "python",
   "pygments_lexer": "ipython3",
   "version": "3.6.0"
  }
 },
 "nbformat": 4,
 "nbformat_minor": 2
}
