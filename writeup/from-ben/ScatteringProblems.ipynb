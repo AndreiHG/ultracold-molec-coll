{
 "cells": [
  {
   "cell_type": "code",
   "execution_count": 4,
   "metadata": {
    "collapsed": true
   },
   "outputs": [],
   "source": [
    "import numpy as np\n",
    "from numpy import exp, sqrt, tanh\n",
    "import matplotlib.pyplot as plt\n",
    "%matplotlib inline"
   ]
  },
  {
   "cell_type": "markdown",
   "metadata": {},
   "source": [
    "# Problem 1"
   ]
  },
  {
   "cell_type": "code",
   "execution_count": 45,
   "metadata": {
    "collapsed": true
   },
   "outputs": [],
   "source": [
    "def solveAtE(E):\n",
    "    V0 = 8e-4\n",
    "    m = 1822\n",
    "    a = 3\n",
    "    k = np.sqrt(2*m*E)\n",
    "    \n",
    "    ML = np.array([[1,1],\n",
    "                   [1j*k,-1j*k]])\n",
    "    if E>V0:\n",
    "        kp = sqrt(2*m*(E-V0))\n",
    "        MR = np.array([[1,1],[1j*kp,-1j*kp]])\n",
    "        Mtilde = np.array([[exp(1j*kp*a),exp(-1j*kp*a)],\n",
    "                           [1j*kp*exp(1j*kp*a),-1j*kp*exp(-1j*kp*a)]])\n",
    "    else:\n",
    "        kp = sqrt(2*m*(V0-E))\n",
    "        MR = np.array([[1,1],[kp,-kp]])\n",
    "        Mtilde = np.array([[exp(kp*a),exp(-kp*a)],\n",
    "                   [kp*exp(kp*a),-kp*exp(-kp*a)]])\n",
    "    \n",
    "    M = np.dot(Mtilde,np.linalg.inv(MR).dot(ML))\n",
    "    \n",
    "    mat = np.array([[-exp(1j*k*a),M[0,1]],\n",
    "                    [-1j*k*exp(1j*k*a),M[1,1]]])\n",
    "    b = np.array([-M[0,0],-M[1,0]])\n",
    "    SR = np.linalg.solve(mat,b)\n",
    "    \n",
    "    return (SR[0],SR[1])\n",
    "    \n",
    "    "
   ]
  },
  {
   "cell_type": "code",
   "execution_count": 54,
   "metadata": {
    "collapsed": false
   },
   "outputs": [
    {
     "data": {
      "text/plain": [
       "<matplotlib.legend.Legend at 0x10fab6828>"
      ]
     },
     "execution_count": 54,
     "metadata": {},
     "output_type": "execute_result"
    },
    {
     "data": {
      "image/png": "[encoded data removed]",
      "text/plain": [
       "<matplotlib.figure.Figure at 0x10f8e6898>"
      ]
     },
     "metadata": {},
     "output_type": "display_data"
    }
   ],
   "source": [
    "npts = 100\n",
    "Es = np.linspace(1e-4,3e-3,npts)\n",
    "S = np.zeros((npts),dtype=np.complex_)\n",
    "R = np.zeros((npts),dtype=np.complex_)\n",
    "for (n,E) in enumerate(Es):\n",
    "    S[n],R[n] = solveAtE(E)\n",
    "    \n",
    "plt.plot(Es,abs(S)**2,label=\"|S|^2\")\n",
    "plt.plot(Es,abs(R)**2,label=\"|R|^2\")\n",
    "plt.legend()\n",
    "    "
   ]
  },
  {
   "cell_type": "code",
   "execution_count": 53,
   "metadata": {
    "collapsed": false
   },
   "outputs": [
    {
     "name": "stdout",
     "output_type": "stream",
     "text": [
      "1.74166454901e-05\n",
      "0.999982583355\n"
     ]
    }
   ],
   "source": [
    "S,R = solveAtE(2.01e-3)\n",
    "print(abs(R)**2)\n",
    "print(abs(S)**2)"
   ]
  },
  {
   "cell_type": "markdown",
   "metadata": {},
   "source": [
    "# Problem 2"
   ]
  },
  {
   "cell_type": "code",
   "execution_count": 59,
   "metadata": {
    "collapsed": true
   },
   "outputs": [],
   "source": [
    "def V(x,V0=3e-4,a=3):\n",
    "    return V0*1/(np.cosh(a*x))**2"
   ]
  },
  {
   "cell_type": "code",
   "execution_count": 66,
   "metadata": {
    "collapsed": false
   },
   "outputs": [
    {
     "data": {
      "text/plain": [
       "[<matplotlib.lines.Line2D at 0x10ffccb38>]"
      ]
     },
     "execution_count": 66,
     "metadata": {},
     "output_type": "execute_result"
    },
    {
     "data": {
      "image/png": "[encoded data removed]",
      "text/plain": [
       "<matplotlib.figure.Figure at 0x10fe312b0>"
      ]
     },
     "metadata": {},
     "output_type": "display_data"
    }
   ],
   "source": [
    "x = np.linspace(-2,2,200)\n",
    "plt.plot(x,V(x)/V(0))"
   ]
  },
  {
   "cell_type": "markdown",
   "metadata": {
    "collapsed": true
   },
   "source": [
    "# Multi-Channel Scattering"
   ]
  },
  {
   "cell_type": "code",
   "execution_count": 7,
   "metadata": {
    "collapsed": true
   },
   "outputs": [],
   "source": [
    "lam1 = [0.813, 0.677]\n",
    "lam2 = [1.2014, 2.2061]\n",
    "lam3 = [5.5701, 6.2093]\n",
    "C1 = [3.7457e3, -7.7718e3]\n",
    "C2 = [6.7280e5, -7.3837e7]\n",
    "C3 = [-1.2773e5, 3.2149e7]\n",
    "C4 = [3.4733e6, 2.9743e6]\n",
    "A = 293.3\n",
    "\n",
    "def Vsig(r):\n",
    "    return (C1[0]*exp(-lam1[0]*r) + \n",
    "            (C2[0]+C3[0]*r)*exp(-lam2[0]*r) -\n",
    "            C4[0]/2*(tanh(1.2*(r-lam3[0]))+1)/r**6)\n",
    "\n",
    "def Vpi(r):\n",
    "    return (C1[1]*exp(-lam1[1]*r) + \n",
    "            (C2[1]+C3[1]*r)*exp(-lam2[1]*r) -\n",
    "            C4[1]/2*(tanh(1.2*(r-lam3[1]))+1)/r**6)\n",
    "\n",
    "def Vmat(r):\n",
    "    V11 = 2/3*Vsig(r) + 1/3*Vpi(r) - A\n",
    "    V12 = sqrt(2)/3*(Vpi(r)-Vsig(r))\n",
    "    V22 = 1/3*Vsig(r) + 2/3*Vpi(r) +2*A\n",
    "    return np.array([[V11,V12],[V12,V22]])"
   ]
  },
  {
   "cell_type": "code",
   "execution_count": 47,
   "metadata": {
    "collapsed": false
   },
   "outputs": [],
   "source": [
    "rvals = np.linspace(2,10,500)\n",
    "evals=[]\n",
    "for r in rvals:\n",
    "    ev=np.linalg.eig(Vmat(r))[0]\n",
    "    evals.append(ev)"
   ]
  },
  {
   "cell_type": "code",
   "execution_count": 48,
   "metadata": {
    "collapsed": false
   },
   "outputs": [
    {
     "data": {
      "text/plain": [
       "(-2000, 40000)"
      ]
     },
     "execution_count": 48,
     "metadata": {},
     "output_type": "execute_result"
    },
    {
     "data": {
      "image/png": "[encoded data removed]",
      "text/plain": [
       "<matplotlib.figure.Figure at 0x114e8a8d0>"
      ]
     },
     "metadata": {},
     "output_type": "display_data"
    }
   ],
   "source": [
    "plt.plot(rvals,evals)\n",
    "plt.ylim(-2000,40000)"
   ]
  },
  {
   "cell_type": "code",
   "execution_count": null,
   "metadata": {
    "collapsed": true
   },
   "outputs": [],
   "source": []
  }
 ],
 "metadata": {
  "kernelspec": {
   "display_name": "Python 3",
   "language": "python",
   "name": "python3"
  },
  "language_info": {
   "codemirror_mode": {
    "name": "ipython",
    "version": 3
   },
   "file_extension": ".py",
   "mimetype": "text/x-python",
   "name": "python",
   "nbconvert_exporter": "python",
   "pygments_lexer": "ipython3",
   "version": "3.6.0"
  }
 },
 "nbformat": 4,
 "nbformat_minor": 2
}
